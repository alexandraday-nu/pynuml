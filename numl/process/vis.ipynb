{
 "cells": [
  {
   "cell_type": "code",
   "execution_count": null,
   "id": "d9fd3d76-7d89-435b-987e-690b2803fe66",
   "metadata": {},
   "outputs": [],
   "source": [
    "%load_ext autoreload\n",
    "%autoreload 2"
   ]
  },
  {
   "cell_type": "code",
   "execution_count": null,
   "id": "3b94679c-66de-4e85-b85c-7d3b257c9474",
   "metadata": {},
   "outputs": [],
   "source": [
    "from visualization import *\n",
    "from core.file import NuMLFile\n",
    "from IPython.display import clear_output"
   ]
  },
  {
   "cell_type": "code",
   "execution_count": null,
   "id": "91794a63-929e-4bf5-b6f3-794c424091f9",
   "metadata": {},
   "outputs": [],
   "source": [
    "fname = \"/data/uboone/uboone_numu_slice_seq.h5\""
   ]
  },
  {
   "cell_type": "code",
   "execution_count": null,
   "id": "e0a43460-a695-49b3-bb25-8630627046c1",
   "metadata": {
    "tags": []
   },
   "outputs": [],
   "source": [
    "\"\"\"Process all events in a file into graphs\"\"\"\n",
    "f = NuMLFile(fname)\n",
    "f.add_group(\"hit_table\")\n",
    "f.add_group(\"particle_table\", [\"g4_id\", \"parent_id\", \"type\", \"momentum\", \"start_process\", \"end_process\"])\n",
    "f.add_group(\"edep_table\")\n",
    "f.add_group(\"spacepoint_table\")\n",
    "f.read_data([0], [1000], use_seq=True, profile=False)\n",
    "evt_list = f.build_evt(0, 1000)"
   ]
  },
  {
   "cell_type": "code",
   "execution_count": null,
   "id": "38a794ac-2afd-4d47-b7da-5823f1049775",
   "metadata": {
    "tags": []
   },
   "outputs": [],
   "source": [
    "# Cycle through each event in file\n",
    "print_out = True\n",
    "for evt in evt_list:\n",
    "    run, subrun, event = f.index(evt[\"index\"])\n",
    "    planes = single_plane_graph_vis(evt)\n",
    "    if planes:\n",
    "        clear_output(wait=True)\n",
    "        plot_event(handle_planes(planes), print_out=print_out, write=False)\n",
    "        if print_out:\n",
    "            in_key = input(\"(%i %i %i) Press Enter to continue or type q to exit\" %(run, subrun, event))\n",
    "            if in_key == 'q': break"
   ]
  },
  {
   "cell_type": "code",
   "execution_count": null,
   "id": "4268fa89-6b19-4fb1-849b-f173ed54de3a",
   "metadata": {},
   "outputs": [],
   "source": [
    "# Process single key\n",
    "planes = single_plane_graph_vis(evt_list[0])\n",
    "plot_event(handle_planes(planes), print_out=True, write=False)"
   ]
  },
  {
   "cell_type": "markdown",
   "id": "7e6e4df2-c35f-4287-9576-c57605caee78",
   "metadata": {},
   "source": [
    "## Data Analysis"
   ]
  },
  {
   "cell_type": "code",
   "execution_count": null,
   "id": "29993fe1-a931-49d5-9982-1d3e50f02982",
   "metadata": {},
   "outputs": [],
   "source": [
    "# Concat events in file\n",
    "data = concat_events(fname)"
   ]
  },
  {
   "cell_type": "code",
   "execution_count": null,
   "id": "b389765b-a093-4a35-a197-289b57bd04ba",
   "metadata": {},
   "outputs": [],
   "source": [
    "histogram_slice(data, \"momentum\", log_scale=False, write=False)"
   ]
  },
  {
   "cell_type": "code",
   "execution_count": null,
   "id": "8b3e5db7-2a0f-404a-bff6-b21c8aea4599",
   "metadata": {},
   "outputs": [],
   "source": [
    "label_counts(data)"
   ]
  }
 ],
 "metadata": {
  "kernelspec": {
   "display_name": "Python 3 (ipykernel)",
   "language": "python",
   "name": "python3"
  },
  "language_info": {
   "codemirror_mode": {
    "name": "ipython",
    "version": 3
   },
   "file_extension": ".py",
   "mimetype": "text/x-python",
   "name": "python",
   "nbconvert_exporter": "python",
   "pygments_lexer": "ipython3",
   "version": "3.9.5"
  }
 },
 "nbformat": 4,
 "nbformat_minor": 5
}
