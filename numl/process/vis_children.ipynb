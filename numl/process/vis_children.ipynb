{
 "cells": [
  {
   "cell_type": "code",
   "execution_count": 1,
   "id": "d9fd3d76-7d89-435b-987e-690b2803fe66",
   "metadata": {},
   "outputs": [],
   "source": [
    "%load_ext autoreload\n",
    "%autoreload 2"
   ]
  },
  {
   "cell_type": "code",
   "execution_count": 2,
   "id": "3b94679c-66de-4e85-b85c-7d3b257c9474",
   "metadata": {},
   "outputs": [],
   "source": [
    "from visualization import *\n",
    "from core.file import NuMLFile\n",
    "from IPython.display import clear_output"
   ]
  },
  {
   "cell_type": "code",
   "execution_count": 3,
   "id": "91794a63-929e-4bf5-b6f3-794c424091f9",
   "metadata": {},
   "outputs": [],
   "source": [
    "fname = \"/data/uboone/uboone_numu_slice_seq.h5\""
   ]
  },
  {
   "cell_type": "code",
   "execution_count": 4,
   "id": "e0a43460-a695-49b3-bb25-8630627046c1",
   "metadata": {
    "tags": []
   },
   "outputs": [],
   "source": [
    "\"\"\"Process all events in a file into graphs\"\"\"\n",
    "f = NuMLFile(fname)\n",
    "f.add_group(\"hit_table\")\n",
    "f.add_group(\"particle_table\", [\"g4_id\", \"parent_id\", \"type\", \"momentum\", \"start_process\", \"end_process\"])\n",
    "f.add_group(\"edep_table\")\n",
    "f.add_group(\"spacepoint_table\")\n",
    "f.read_data([0], [1000], use_seq=True, profile=False)\n",
    "evt_list = f.build_evt(0, 1000)"
   ]
  },
  {
   "cell_type": "code",
   "execution_count": null,
   "id": "4268fa89-6b19-4fb1-849b-f173ed54de3a",
   "metadata": {},
   "outputs": [],
   "source": [
    "# Process single key\n",
    "# planes = single_plane_graph_vis(evt_list[0])\n",
    "# plot_event(handle_planes(planes), print_out=True, write=False)"
   ]
  },
  {
   "cell_type": "code",
   "execution_count": 25,
   "id": "c7b9504d-8228-4ca6-a4dd-1a23dd406770",
   "metadata": {},
   "outputs": [
    {
     "name": "stdout",
     "output_type": "stream",
     "text": [
      "     g4_id  parent_id  type  momentum start_process           end_process\n",
      "0        1          0    13  1.226558    b'primary'  b'FastScintillation'\n",
      "1        2          0  2212  0.212783    b'primary'  b'FastScintillation'\n",
      "2        3          0  2212  0.197717    b'primary'  b'FastScintillation'\n",
      "3        4          0  2212  0.120768    b'primary'  b'FastScintillation'\n",
      "4        5          0  2212  0.196712    b'primary'  b'FastScintillation'\n",
      "..     ...        ...   ...       ...           ...                   ...\n",
      "251    881        519    11  0.000341      b'compt'  b'FastScintillation'\n",
      "252   1017        498    11  0.002596      b'compt'  b'FastScintillation'\n",
      "253   1025        822    22  0.000069      b'eBrem'               b'phot'\n",
      "254   1026        822    11  0.000625      b'eIoni'  b'FastScintillation'\n",
      "255   1069       1025    11  0.000267       b'phot'  b'FastScintillation'\n",
      "\n",
      "[256 rows x 6 columns]\n"
     ]
    }
   ],
   "source": [
    "print(evt_list[10]['particle_table'])"
   ]
  },
  {
   "cell_type": "code",
   "execution_count": 16,
   "id": "20d1590f-0ee8-4d9c-b7b7-9ad99d1b561c",
   "metadata": {},
   "outputs": [
    {
     "name": "stdout",
     "output_type": "stream",
     "text": [
      "{'index': 4, 'hit_table':       global_plane  global_time  global_wire  hit_id   integral  local_plane  \\\n",
      "0                2  3124.469727       2415.0       0  70.382805            2   \n",
      "1                2  1508.955811       2325.0       1  37.248268            2   \n",
      "2                2  1443.360718       2319.0       2  97.944389            2   \n",
      "3                2  1440.373291       2318.0       3  83.800812            2   \n",
      "4                2  3618.190918       2282.0       4  29.601099            2   \n",
      "...            ...          ...          ...     ...        ...          ...   \n",
      "1638             0  1130.083618        293.0    1638  40.882240            0   \n",
      "1639             0   101.192429        292.0    1639  71.620949            0   \n",
      "1640             0   103.469971        291.0    1640  68.557381            0   \n",
      "1641             0   270.996399        196.0    1641  61.386772            0   \n",
      "1642             0   216.693497        196.0    1642  53.487831            0   \n",
      "\n",
      "       local_time  local_wire       rms  tpc  \n",
      "0     3124.469727      2415.0  4.265074    0  \n",
      "1     1508.955811      2325.0  2.831391    0  \n",
      "2     1443.360718      2319.0  3.055154    0  \n",
      "3     1440.373291      2318.0  3.138005    0  \n",
      "4     3618.190918      2282.0  2.946062    0  \n",
      "...           ...         ...       ...  ...  \n",
      "1638  1130.083618       293.0  4.735559    0  \n",
      "1639   101.192429       292.0  3.612676    0  \n",
      "1640   103.469971       291.0  3.832277    0  \n",
      "1641   270.996399       196.0  4.389020    0  \n",
      "1642   216.693497       196.0  3.463969    0  \n",
      "\n",
      "[1643 rows x 10 columns], 'particle_table':      g4_id  parent_id  type  momentum start_process           end_process\n",
      "0        1          0    13  1.102505    b'primary'  b'FastScintillation'\n",
      "1        2          0  2112  0.236676    b'primary'   b'neutronInelastic'\n",
      "2        3          0  2212  0.307925    b'primary'  b'FastScintillation'\n",
      "3        4          0   211  0.232898    b'primary'       b'pi+Inelastic'\n",
      "4        5          0  2212  0.607284    b'primary'  b'FastScintillation'\n",
      "..     ...        ...   ...       ...           ...                   ...\n",
      "154    693        488    11  0.001527      b'compt'  b'FastScintillation'\n",
      "155    699        487    11  0.000771      b'compt'  b'FastScintillation'\n",
      "156    700        487    11  0.001049      b'compt'  b'FastScintillation'\n",
      "157    719        467    11  0.000958      b'compt'  b'FastScintillation'\n",
      "158    867        428    11  0.000945      b'compt'  b'FastScintillation'\n",
      "\n",
      "[159 rows x 6 columns], 'edep_table':       energy_fraction  g4_id  hit_id\n",
      "0            0.278691    131      51\n",
      "1            0.721309      1      51\n",
      "2            0.300470    131      52\n",
      "3            0.699530      1      52\n",
      "4            0.026226    131      53\n",
      "...               ...    ...     ...\n",
      "2146         0.172938     63    1627\n",
      "2147         0.033811     62    1627\n",
      "2148         0.000672     61    1627\n",
      "2149         0.002694     37    1627\n",
      "2150         0.727151      1    1627\n",
      "\n",
      "[2151 rows x 3 columns], 'spacepoint_table':       hit_id_u  hit_id_v  hit_id_y  position_x  position_y  position_z  \\\n",
      "0         1613      1399        -1   86.092888   34.052170  247.800003   \n",
      "1         1613      1398        -1   86.048523   34.225376  248.100006   \n",
      "2         1613      1397        -1   86.065819   34.398582  248.399994   \n",
      "3         1616      1374        -1   85.133972   41.326782  248.399994   \n",
      "4         1616      1374        -1   85.133972   41.326782  248.600006   \n",
      "...        ...       ...       ...         ...         ...         ...   \n",
      "1675      1633      1422       684   14.076291   77.353439  132.199997   \n",
      "1676      1633      1422       685   14.226722   77.353439  132.199997   \n",
      "1677      1633      1423       686   14.222601   77.180237  131.899994   \n",
      "1678      1634      1422       686   14.246989   77.526649  131.899994   \n",
      "1679        -1      1429       687   17.572145   68.519981  126.300003   \n",
      "\n",
      "      spacepoint_id  \n",
      "0                 2  \n",
      "1                 3  \n",
      "2                 5  \n",
      "3                 7  \n",
      "4                 8  \n",
      "...             ...  \n",
      "1675           4247  \n",
      "1676           4248  \n",
      "1677           4250  \n",
      "1678           4251  \n",
      "1679           4252  \n",
      "\n",
      "[1680 rows x 7 columns]}\n",
      "func:'panoptic_label' took: 0.1204 sec\n"
     ]
    },
    {
     "ename": "KeyError",
     "evalue": "False",
     "output_type": "error",
     "traceback": [
      "\u001b[0;31m---------------------------------------------------------------------------\u001b[0m",
      "\u001b[0;31mKeyError\u001b[0m                                  Traceback (most recent call last)",
      "\u001b[0;32m/usr/local/miniconda3/lib/python3.9/site-packages/pandas/core/indexes/base.py\u001b[0m in \u001b[0;36mget_loc\u001b[0;34m(self, key, method, tolerance)\u001b[0m\n\u001b[1;32m   3360\u001b[0m             \u001b[0;32mtry\u001b[0m\u001b[0;34m:\u001b[0m\u001b[0;34m\u001b[0m\u001b[0;34m\u001b[0m\u001b[0m\n\u001b[0;32m-> 3361\u001b[0;31m                 \u001b[0;32mreturn\u001b[0m \u001b[0mself\u001b[0m\u001b[0;34m.\u001b[0m\u001b[0m_engine\u001b[0m\u001b[0;34m.\u001b[0m\u001b[0mget_loc\u001b[0m\u001b[0;34m(\u001b[0m\u001b[0mcasted_key\u001b[0m\u001b[0;34m)\u001b[0m\u001b[0;34m\u001b[0m\u001b[0;34m\u001b[0m\u001b[0m\n\u001b[0m\u001b[1;32m   3362\u001b[0m             \u001b[0;32mexcept\u001b[0m \u001b[0mKeyError\u001b[0m \u001b[0;32mas\u001b[0m \u001b[0merr\u001b[0m\u001b[0;34m:\u001b[0m\u001b[0;34m\u001b[0m\u001b[0;34m\u001b[0m\u001b[0m\n",
      "\u001b[0;32m/usr/local/miniconda3/lib/python3.9/site-packages/pandas/_libs/index.pyx\u001b[0m in \u001b[0;36mpandas._libs.index.IndexEngine.get_loc\u001b[0;34m()\u001b[0m\n",
      "\u001b[0;32m/usr/local/miniconda3/lib/python3.9/site-packages/pandas/_libs/index.pyx\u001b[0m in \u001b[0;36mpandas._libs.index.IndexEngine.get_loc\u001b[0;34m()\u001b[0m\n",
      "\u001b[0;32mpandas/_libs/hashtable_class_helper.pxi\u001b[0m in \u001b[0;36mpandas._libs.hashtable.PyObjectHashTable.get_item\u001b[0;34m()\u001b[0m\n",
      "\u001b[0;32mpandas/_libs/hashtable_class_helper.pxi\u001b[0m in \u001b[0;36mpandas._libs.hashtable.PyObjectHashTable.get_item\u001b[0;34m()\u001b[0m\n",
      "\u001b[0;31mKeyError\u001b[0m: False",
      "\nThe above exception was the direct cause of the following exception:\n",
      "\u001b[0;31mKeyError\u001b[0m                                  Traceback (most recent call last)",
      "\u001b[0;32m/tmp/ipykernel_19060/978420053.py\u001b[0m in \u001b[0;36m<module>\u001b[0;34m\u001b[0m\n\u001b[1;32m      4\u001b[0m \u001b[0mplanes\u001b[0m \u001b[0;34m=\u001b[0m \u001b[0msingle_plane_graph_vis\u001b[0m\u001b[0;34m(\u001b[0m\u001b[0mcurrent_event\u001b[0m\u001b[0;34m)\u001b[0m\u001b[0;34m\u001b[0m\u001b[0;34m\u001b[0m\u001b[0m\n\u001b[1;32m      5\u001b[0m \u001b[0mparticle\u001b[0m \u001b[0;34m=\u001b[0m \u001b[0mcurrent_event\u001b[0m\u001b[0;34m[\u001b[0m\u001b[0;34m'particle_table'\u001b[0m\u001b[0;34m]\u001b[0m\u001b[0;34m\u001b[0m\u001b[0;34m\u001b[0m\u001b[0m\n\u001b[0;32m----> 6\u001b[0;31m \u001b[0mhier\u001b[0m \u001b[0;34m=\u001b[0m \u001b[0mextract_hierarchy\u001b[0m\u001b[0;34m(\u001b[0m\u001b[0mplanes\u001b[0m\u001b[0;34m,\u001b[0m \u001b[0mparticle\u001b[0m\u001b[0;34m,\u001b[0m \u001b[0mcurrent_event\u001b[0m\u001b[0;34m[\u001b[0m\u001b[0;34m'index'\u001b[0m\u001b[0;34m]\u001b[0m\u001b[0;34m)\u001b[0m\u001b[0;34m\u001b[0m\u001b[0;34m\u001b[0m\u001b[0m\n\u001b[0m\u001b[1;32m      7\u001b[0m \u001b[0mprint\u001b[0m\u001b[0;34m(\u001b[0m\u001b[0mhier\u001b[0m\u001b[0;34m)\u001b[0m\u001b[0;34m\u001b[0m\u001b[0;34m\u001b[0m\u001b[0m\n",
      "\u001b[0;32m~/pynuml/numl/process/visualization.py\u001b[0m in \u001b[0;36mextract_hierarchy\u001b[0;34m(planes_arr, part, key)\u001b[0m\n\u001b[1;32m     80\u001b[0m         \u001b[0mevt_part\u001b[0m \u001b[0;34m=\u001b[0m \u001b[0mpart\u001b[0m\u001b[0;34m.\u001b[0m\u001b[0mloc\u001b[0m\u001b[0;34m[\u001b[0m\u001b[0mkey\u001b[0m\u001b[0;34m]\u001b[0m\u001b[0;34m\u001b[0m\u001b[0;34m\u001b[0m\u001b[0m\n\u001b[1;32m     81\u001b[0m \u001b[0;31m#         evt_part = part.loc[key].reset_index(drop=True)\u001b[0m\u001b[0;34m\u001b[0m\u001b[0;34m\u001b[0m\u001b[0;34m\u001b[0m\u001b[0m\n\u001b[0;32m---> 82\u001b[0;31m         info = {p : (evt_part[evt_part.g4_id == p]['type'].values[0], \n\u001b[0m\u001b[1;32m     83\u001b[0m                      \u001b[0mevt_part\u001b[0m\u001b[0;34m[\u001b[0m\u001b[0mevt_part\u001b[0m\u001b[0;34m.\u001b[0m\u001b[0mg4_id\u001b[0m \u001b[0;34m==\u001b[0m \u001b[0mp\u001b[0m\u001b[0;34m]\u001b[0m\u001b[0;34m[\u001b[0m\u001b[0;34m'momentum'\u001b[0m\u001b[0;34m]\u001b[0m\u001b[0;34m.\u001b[0m\u001b[0mvalues\u001b[0m\u001b[0;34m[\u001b[0m\u001b[0;36m0\u001b[0m\u001b[0;34m]\u001b[0m\u001b[0;34m,\u001b[0m\u001b[0;34m\u001b[0m\u001b[0;34m\u001b[0m\u001b[0m\n\u001b[1;32m     84\u001b[0m                      plane[plane.g4_id == p].shape[0]) for p in plane['g4_id'].unique()}  \n",
      "\u001b[0;32m~/pynuml/numl/process/visualization.py\u001b[0m in \u001b[0;36m<dictcomp>\u001b[0;34m(.0)\u001b[0m\n\u001b[1;32m     80\u001b[0m         \u001b[0mevt_part\u001b[0m \u001b[0;34m=\u001b[0m \u001b[0mpart\u001b[0m\u001b[0;34m.\u001b[0m\u001b[0mloc\u001b[0m\u001b[0;34m[\u001b[0m\u001b[0mkey\u001b[0m\u001b[0;34m]\u001b[0m\u001b[0;34m\u001b[0m\u001b[0;34m\u001b[0m\u001b[0m\n\u001b[1;32m     81\u001b[0m \u001b[0;31m#         evt_part = part.loc[key].reset_index(drop=True)\u001b[0m\u001b[0;34m\u001b[0m\u001b[0;34m\u001b[0m\u001b[0;34m\u001b[0m\u001b[0m\n\u001b[0;32m---> 82\u001b[0;31m         info = {p : (evt_part[evt_part.g4_id == p]['type'].values[0], \n\u001b[0m\u001b[1;32m     83\u001b[0m                      \u001b[0mevt_part\u001b[0m\u001b[0;34m[\u001b[0m\u001b[0mevt_part\u001b[0m\u001b[0;34m.\u001b[0m\u001b[0mg4_id\u001b[0m \u001b[0;34m==\u001b[0m \u001b[0mp\u001b[0m\u001b[0;34m]\u001b[0m\u001b[0;34m[\u001b[0m\u001b[0;34m'momentum'\u001b[0m\u001b[0;34m]\u001b[0m\u001b[0;34m.\u001b[0m\u001b[0mvalues\u001b[0m\u001b[0;34m[\u001b[0m\u001b[0;36m0\u001b[0m\u001b[0;34m]\u001b[0m\u001b[0;34m,\u001b[0m\u001b[0;34m\u001b[0m\u001b[0;34m\u001b[0m\u001b[0m\n\u001b[1;32m     84\u001b[0m                      plane[plane.g4_id == p].shape[0]) for p in plane['g4_id'].unique()}  \n",
      "\u001b[0;32m/usr/local/miniconda3/lib/python3.9/site-packages/pandas/core/series.py\u001b[0m in \u001b[0;36m__getitem__\u001b[0;34m(self, key)\u001b[0m\n\u001b[1;32m    940\u001b[0m \u001b[0;34m\u001b[0m\u001b[0m\n\u001b[1;32m    941\u001b[0m         \u001b[0;32melif\u001b[0m \u001b[0mkey_is_scalar\u001b[0m\u001b[0;34m:\u001b[0m\u001b[0;34m\u001b[0m\u001b[0;34m\u001b[0m\u001b[0m\n\u001b[0;32m--> 942\u001b[0;31m             \u001b[0;32mreturn\u001b[0m \u001b[0mself\u001b[0m\u001b[0;34m.\u001b[0m\u001b[0m_get_value\u001b[0m\u001b[0;34m(\u001b[0m\u001b[0mkey\u001b[0m\u001b[0;34m)\u001b[0m\u001b[0;34m\u001b[0m\u001b[0;34m\u001b[0m\u001b[0m\n\u001b[0m\u001b[1;32m    943\u001b[0m \u001b[0;34m\u001b[0m\u001b[0m\n\u001b[1;32m    944\u001b[0m         \u001b[0;32mif\u001b[0m \u001b[0mis_hashable\u001b[0m\u001b[0;34m(\u001b[0m\u001b[0mkey\u001b[0m\u001b[0;34m)\u001b[0m\u001b[0;34m:\u001b[0m\u001b[0;34m\u001b[0m\u001b[0;34m\u001b[0m\u001b[0m\n",
      "\u001b[0;32m/usr/local/miniconda3/lib/python3.9/site-packages/pandas/core/series.py\u001b[0m in \u001b[0;36m_get_value\u001b[0;34m(self, label, takeable)\u001b[0m\n\u001b[1;32m   1049\u001b[0m \u001b[0;34m\u001b[0m\u001b[0m\n\u001b[1;32m   1050\u001b[0m         \u001b[0;31m# Similar to Index.get_value, but we do not fall back to positional\u001b[0m\u001b[0;34m\u001b[0m\u001b[0;34m\u001b[0m\u001b[0;34m\u001b[0m\u001b[0m\n\u001b[0;32m-> 1051\u001b[0;31m         \u001b[0mloc\u001b[0m \u001b[0;34m=\u001b[0m \u001b[0mself\u001b[0m\u001b[0;34m.\u001b[0m\u001b[0mindex\u001b[0m\u001b[0;34m.\u001b[0m\u001b[0mget_loc\u001b[0m\u001b[0;34m(\u001b[0m\u001b[0mlabel\u001b[0m\u001b[0;34m)\u001b[0m\u001b[0;34m\u001b[0m\u001b[0;34m\u001b[0m\u001b[0m\n\u001b[0m\u001b[1;32m   1052\u001b[0m         \u001b[0;32mreturn\u001b[0m \u001b[0mself\u001b[0m\u001b[0;34m.\u001b[0m\u001b[0mindex\u001b[0m\u001b[0;34m.\u001b[0m\u001b[0m_get_values_for_loc\u001b[0m\u001b[0;34m(\u001b[0m\u001b[0mself\u001b[0m\u001b[0;34m,\u001b[0m \u001b[0mloc\u001b[0m\u001b[0;34m,\u001b[0m \u001b[0mlabel\u001b[0m\u001b[0;34m)\u001b[0m\u001b[0;34m\u001b[0m\u001b[0;34m\u001b[0m\u001b[0m\n\u001b[1;32m   1053\u001b[0m \u001b[0;34m\u001b[0m\u001b[0m\n",
      "\u001b[0;32m/usr/local/miniconda3/lib/python3.9/site-packages/pandas/core/indexes/base.py\u001b[0m in \u001b[0;36mget_loc\u001b[0;34m(self, key, method, tolerance)\u001b[0m\n\u001b[1;32m   3361\u001b[0m                 \u001b[0;32mreturn\u001b[0m \u001b[0mself\u001b[0m\u001b[0;34m.\u001b[0m\u001b[0m_engine\u001b[0m\u001b[0;34m.\u001b[0m\u001b[0mget_loc\u001b[0m\u001b[0;34m(\u001b[0m\u001b[0mcasted_key\u001b[0m\u001b[0;34m)\u001b[0m\u001b[0;34m\u001b[0m\u001b[0;34m\u001b[0m\u001b[0m\n\u001b[1;32m   3362\u001b[0m             \u001b[0;32mexcept\u001b[0m \u001b[0mKeyError\u001b[0m \u001b[0;32mas\u001b[0m \u001b[0merr\u001b[0m\u001b[0;34m:\u001b[0m\u001b[0;34m\u001b[0m\u001b[0;34m\u001b[0m\u001b[0m\n\u001b[0;32m-> 3363\u001b[0;31m                 \u001b[0;32mraise\u001b[0m \u001b[0mKeyError\u001b[0m\u001b[0;34m(\u001b[0m\u001b[0mkey\u001b[0m\u001b[0;34m)\u001b[0m \u001b[0;32mfrom\u001b[0m \u001b[0merr\u001b[0m\u001b[0;34m\u001b[0m\u001b[0;34m\u001b[0m\u001b[0m\n\u001b[0m\u001b[1;32m   3364\u001b[0m \u001b[0;34m\u001b[0m\u001b[0m\n\u001b[1;32m   3365\u001b[0m         \u001b[0;32mif\u001b[0m \u001b[0mis_scalar\u001b[0m\u001b[0;34m(\u001b[0m\u001b[0mkey\u001b[0m\u001b[0;34m)\u001b[0m \u001b[0;32mand\u001b[0m \u001b[0misna\u001b[0m\u001b[0;34m(\u001b[0m\u001b[0mkey\u001b[0m\u001b[0;34m)\u001b[0m \u001b[0;32mand\u001b[0m \u001b[0;32mnot\u001b[0m \u001b[0mself\u001b[0m\u001b[0;34m.\u001b[0m\u001b[0mhasnans\u001b[0m\u001b[0;34m:\u001b[0m\u001b[0;34m\u001b[0m\u001b[0;34m\u001b[0m\u001b[0m\n",
      "\u001b[0;31mKeyError\u001b[0m: False"
     ]
    }
   ],
   "source": [
    "# Visualize hierarchy\n",
    "current_event = evt_list[3]\n",
    "print(current_event)\n",
    "planes = single_plane_graph_vis(current_event)\n",
    "particle = current_event['particle_table']\n",
    "hier = extract_hierarchy(planes, particle, current_event)\n",
    "print(hier)"
   ]
  },
  {
   "cell_type": "code",
   "execution_count": null,
   "id": "ecb2f69b-f42a-4efa-9ec8-213798d1738b",
   "metadata": {},
   "outputs": [],
   "source": []
  },
  {
   "cell_type": "code",
   "execution_count": null,
   "id": "780f7708-7bdf-40c5-b361-6bafd34bd052",
   "metadata": {},
   "outputs": [],
   "source": [
    "# Starting code for finding the particle hierarchy, assuming the above code works\n",
    "\n",
    "# for each particle (given by g4_id), we have a list of their neighbors/children\n",
    "# given in the form of hierarchy.iloc[g4_id]['neighbors']\n",
    "\n",
    "# iterate through each particle and its children and create a big list of all the directed edges?\n",
    "# seems inefficient...?\n",
    "\n",
    "import networkx as nx\n",
    "def vis_hierarchy(hier_df):\n",
    "    ''' Visualize the hierarchy of a particle event '''\n",
    "    # make a big list of all the edges\n",
    "    edges = []\n",
    "    for particle in hier_df.index.values.tolist():\n",
    "        for neighbor in hier_df[particle]['neighbors']:\n",
    "            edges.append((particle, neighbor))\n",
    "    \n",
    "    # turn this list into a networkx graph\n",
    "    G = nx.Graph() # or G = nx.DiGraph()\n",
    "    G.add_edges_from(edges)\n",
    "    \n",
    "    # visualize the graph\n",
    "    # https://stackoverflow.com/questions/11479624/is-there-a-way-to-guarantee-hierarchical-output-from-networkx\n",
    "    "
   ]
  }
 ],
 "metadata": {
  "kernelspec": {
   "display_name": "Python 3 (ipykernel)",
   "language": "python",
   "name": "python3"
  },
  "language_info": {
   "codemirror_mode": {
    "name": "ipython",
    "version": 3
   },
   "file_extension": ".py",
   "mimetype": "text/x-python",
   "name": "python",
   "nbconvert_exporter": "python",
   "pygments_lexer": "ipython3",
   "version": "3.9.5"
  }
 },
 "nbformat": 4,
 "nbformat_minor": 5
}
