{
 "cells": [
  {
   "cell_type": "code",
   "execution_count": 1,
   "id": "d9fd3d76-7d89-435b-987e-690b2803fe66",
   "metadata": {},
   "outputs": [],
   "source": [
    "%load_ext autoreload\n",
    "%autoreload 2"
   ]
  },
  {
   "cell_type": "code",
   "execution_count": 2,
   "id": "3b94679c-66de-4e85-b85c-7d3b257c9474",
   "metadata": {},
   "outputs": [],
   "source": [
    "from visualization import *\n",
    "from core.file import NuMLFile\n",
    "from IPython.display import clear_output\n",
    "import plotly.graph_objects as go"
   ]
  },
  {
   "cell_type": "code",
   "execution_count": 3,
   "id": "91794a63-929e-4bf5-b6f3-794c424091f9",
   "metadata": {},
   "outputs": [],
   "source": [
    "fname = \"/data/uboone/uboone_numu_slice_seq.h5\""
   ]
  },
  {
   "cell_type": "code",
   "execution_count": 4,
   "id": "e0a43460-a695-49b3-bb25-8630627046c1",
   "metadata": {
    "tags": []
   },
   "outputs": [],
   "source": [
    "\"\"\"Process all events in a file into graphs\"\"\"\n",
    "f = NuMLFile(fname)\n",
    "f.add_group(\"hit_table\")\n",
    "f.add_group(\"particle_table\", [\"g4_id\", \"parent_id\", \"type\", \"momentum\", \"start_process\", \"end_process\"])\n",
    "f.add_group(\"edep_table\")\n",
    "f.add_group(\"spacepoint_table\")\n",
    "f.read_data([0], [1000], use_seq=True, profile=False)\n",
    "evt_list = f.build_evt(0, 1000)"
   ]
  },
  {
   "cell_type": "code",
   "execution_count": 5,
   "id": "cdac1a88-e118-4de3-996c-ea1086ad61c1",
   "metadata": {},
   "outputs": [],
   "source": [
    "# Process single key\n",
    "# planes = single_plane_graph_vis(evt_list[0])\n",
    "# plot_event(handle_planes(planes), print_out=True, write=False)"
   ]
  },
  {
   "cell_type": "code",
   "execution_count": 6,
   "id": "c7b9504d-8228-4ca6-a4dd-1a23dd406770",
   "metadata": {},
   "outputs": [
    {
     "name": "stdout",
     "output_type": "stream",
     "text": [
      "     g4_id  parent_id  type  momentum        start_process  \\\n",
      "0        1          0    13  3.432707           b'primary'   \n",
      "1        2          0  2112  0.332469           b'primary'   \n",
      "2        3          0  2212  0.188507           b'primary'   \n",
      "3        6          2    22  0.004488  b'neutronInelastic'   \n",
      "4        7          2    22  0.003056  b'neutronInelastic'   \n",
      "..     ...        ...   ...       ...                  ...   \n",
      "610   1740       1718    11  0.003409             b'compt'   \n",
      "611   1742       1718    11  0.001368             b'compt'   \n",
      "612   1751       1716    11  0.000219             b'compt'   \n",
      "613   1783       1711    11  0.000125              b'phot'   \n",
      "614   1784       1740    11  0.001122             b'eIoni'   \n",
      "\n",
      "              end_process  \n",
      "0    b'FastScintillation'  \n",
      "1     b'neutronInelastic'  \n",
      "2    b'FastScintillation'  \n",
      "3                 b'phot'  \n",
      "4                 b'phot'  \n",
      "..                    ...  \n",
      "610  b'FastScintillation'  \n",
      "611  b'FastScintillation'  \n",
      "612  b'FastScintillation'  \n",
      "613  b'FastScintillation'  \n",
      "614  b'FastScintillation'  \n",
      "\n",
      "[615 rows x 6 columns]\n"
     ]
    }
   ],
   "source": [
    "print(evt_list[2]['particle_table'])"
   ]
  },
  {
   "cell_type": "code",
   "execution_count": 7,
   "id": "20d1590f-0ee8-4d9c-b7b7-9ad99d1b561c",
   "metadata": {},
   "outputs": [
    {
     "name": "stdout",
     "output_type": "stream",
     "text": [
      "func:'panoptic_label' took: 0.9264 sec\n",
      "[       type  momentum  hit_count  \\\n",
      "0       NaN       NaN          0   \n",
      "1      13.0  3.432707       1021   \n",
      "3    2212.0  0.188507          3   \n",
      "277    11.0  0.024399         13   \n",
      "270    11.0  0.036330          6   \n",
      "262    11.0  0.010358          2   \n",
      "243    11.0  0.019433          8   \n",
      "239    11.0  0.005545          1   \n",
      "227    11.0  0.002919          1   \n",
      "223    11.0  0.021396          6   \n",
      "224    11.0  0.004042          2   \n",
      "201    11.0  0.167281         22   \n",
      "140    11.0  0.006308          2   \n",
      "134    11.0  0.007066          5   \n",
      "127    11.0  0.006778          2   \n",
      "105    11.0  0.008207          4   \n",
      "67     11.0  0.010771          1   \n",
      "62     11.0  0.003424          2   \n",
      "58     11.0  0.013134          2   \n",
      "59     11.0  0.007499          4   \n",
      "46     11.0  0.019435          6   \n",
      "49     11.0  0.010125          4   \n",
      "13     11.0  0.003394          1   \n",
      "209    11.0  0.006765          2   \n",
      "64     11.0  0.002709          1   \n",
      "575    11.0  0.010066          2   \n",
      "\n",
      "                                             neighbors  \n",
      "0                                               [1, 3]  \n",
      "1    [277, 270, 262, 243, 239, 227, 223, 224, 201, ...  \n",
      "3                                                   []  \n",
      "277                                                 []  \n",
      "270                                                 []  \n",
      "262                                                 []  \n",
      "243                                                 []  \n",
      "239                                                 []  \n",
      "227                                                 []  \n",
      "223                                                 []  \n",
      "224                                                 []  \n",
      "201                                              [575]  \n",
      "140                                                 []  \n",
      "134                                                 []  \n",
      "127                                                 []  \n",
      "105                                                 []  \n",
      "67                                                  []  \n",
      "62                                                  []  \n",
      "58                                                  []  \n",
      "59                                                  []  \n",
      "46                                                  []  \n",
      "49                                                  []  \n",
      "13                                                  []  \n",
      "209                                                 []  \n",
      "64                                                  []  \n",
      "575                                                 []  ,        type  momentum  hit_count  \\\n",
      "0       NaN       NaN          0   \n",
      "1      13.0  3.432707       1133   \n",
      "3    2212.0  0.188507          2   \n",
      "277    11.0  0.024399          9   \n",
      "270    11.0  0.036330         15   \n",
      "262    11.0  0.010358          4   \n",
      "239    11.0  0.005545          2   \n",
      "233    11.0  0.002921          1   \n",
      "227    11.0  0.002919          2   \n",
      "223    11.0  0.021396          8   \n",
      "224    11.0  0.004042          2   \n",
      "201    11.0  0.167281         20   \n",
      "175    11.0  0.005411          2   \n",
      "140    11.0  0.006308          1   \n",
      "134    11.0  0.007066          3   \n",
      "127    11.0  0.006778          1   \n",
      "105    11.0  0.008207          2   \n",
      "67     11.0  0.010771          1   \n",
      "58     11.0  0.013134          6   \n",
      "59     11.0  0.007499          2   \n",
      "46     11.0  0.019435          2   \n",
      "49     11.0  0.010125          6   \n",
      "38     11.0  0.087282         30   \n",
      "33     11.0  0.003885          2   \n",
      "22     11.0  0.004309          1   \n",
      "18     11.0  0.007422          2   \n",
      "16     11.0  0.018098         11   \n",
      "13     11.0  0.003394          1   \n",
      "209    11.0  0.006765          4   \n",
      "575    11.0  0.010066          4   \n",
      "604    22.0  0.000189          2   \n",
      "874    11.0  0.000342          2   \n",
      "\n",
      "                                             neighbors  \n",
      "0                                               [1, 3]  \n",
      "1    [277, 270, 262, 239, 233, 227, 223, 224, 201, ...  \n",
      "3                                                   []  \n",
      "277                                                 []  \n",
      "270                                                 []  \n",
      "262                                                 []  \n",
      "239                                                 []  \n",
      "233                                                 []  \n",
      "227                                                 []  \n",
      "223                                                 []  \n",
      "224                                                 []  \n",
      "201                                              [575]  \n",
      "175                                                 []  \n",
      "140                                                 []  \n",
      "134                                              [604]  \n",
      "127                                                 []  \n",
      "105                                                 []  \n",
      "67                                                  []  \n",
      "58                                                  []  \n",
      "59                                                  []  \n",
      "46                                                  []  \n",
      "49                                                  []  \n",
      "38                                                  []  \n",
      "33                                                  []  \n",
      "22                                                  []  \n",
      "18                                                  []  \n",
      "16                                                  []  \n",
      "13                                                  []  \n",
      "209                                                 []  \n",
      "575                                                 []  \n",
      "604                                              [874]  \n",
      "874                                                 []  ,        type  momentum  hit_count  \\\n",
      "0       NaN       NaN          0   \n",
      "1      13.0  3.432707       2105   \n",
      "3    2212.0  0.188507          3   \n",
      "277    11.0  0.024399         23   \n",
      "270    11.0  0.036330         28   \n",
      "..      ...       ...        ...   \n",
      "13     11.0  0.003394          2   \n",
      "520    11.0  0.001495          1   \n",
      "575    11.0  0.010066          6   \n",
      "566    11.0  0.002413          1   \n",
      "635    11.0  0.001900          1   \n",
      "\n",
      "                                             neighbors  \n",
      "0                                               [1, 3]  \n",
      "1    [277, 270, 272, 268, 266, 262, 260, 254, 250, ...  \n",
      "3                                                   []  \n",
      "277                                                 []  \n",
      "270                                              [520]  \n",
      "..                                                 ...  \n",
      "13                                                  []  \n",
      "520                                                 []  \n",
      "575                                                 []  \n",
      "566                                                 []  \n",
      "635                                                 []  \n",
      "\n",
      "[75 rows x 4 columns]]\n"
     ]
    }
   ],
   "source": [
    "current_event = evt_list[2]\n",
    "# print(current_event)\n",
    "planes = single_plane_graph_vis(current_event)\n",
    "particle = current_event['particle_table']\n",
    "hier = extract_hierarchy(planes, particle)\n",
    "print(hier) # 3 different tables, why?"
   ]
  },
  {
   "cell_type": "code",
   "execution_count": null,
   "id": "ecb2f69b-f42a-4efa-9ec8-213798d1738b",
   "metadata": {},
   "outputs": [],
   "source": []
  },
  {
   "cell_type": "code",
   "execution_count": 81,
   "id": "000ba9ba-5da9-4fb8-a8fa-3e29bdb2570e",
   "metadata": {},
   "outputs": [],
   "source": [
    "# Starting code for finding the particle hierarchy, assuming the above code works\n",
    "\n",
    "# for each particle (given by g4_id), we have a list of their neighbors/children\n",
    "# given in the form of hierarchy.iloc[g4_id]['neighbors']\n",
    "\n",
    "# iterate through each particle and its children and create a big list of all the directed edges?\n",
    "# seems inefficient...?\n",
    "\n",
    "import networkx as nx\n",
    "import matplotlib.pyplot as plt\n",
    "# import pydot\n",
    "# from networkx.drawing.nx_pydot import graphviz_layout\n",
    "def vis_hierarchy(hier_df):\n",
    "    ''' Visualize the tree hierarchy of a particle event '''\n",
    "    # make a list of all the edges\n",
    "    edges = []\n",
    "    for particle in hier_df.index.values:\n",
    "        if hier_df.iloc[particle]['neighbors'] == []: \n",
    "            break\n",
    "        else:\n",
    "            for neighbor in hier_df.iloc[particle]['neighbors']:\n",
    "                edges.append((particle, neighbor))\n",
    "    \n",
    "    # turn this list into a networkx graph and visualize\n",
    "    G = nx.DiGraph()\n",
    "    G.add_edges_from(edges)\n",
    "    \n",
    "    plt.figure()\n",
    "    # pos = nx.kamada_kawai_layout(G)\n",
    "    pos = nx.spring_layout(G)\n",
    "    nx.draw_networkx(G, pos)\n",
    "    plt.show()"
   ]
  },
  {
   "cell_type": "code",
   "execution_count": 82,
   "id": "14e5a2e8-56c6-4666-8c5a-8a273a4adffd",
   "metadata": {},
   "outputs": [
    {
     "name": "stderr",
     "output_type": "stream",
     "text": [
      "/tmp/ipykernel_26280/1121509928.py:18: DeprecationWarning:\n",
      "\n",
      "elementwise comparison failed; this will raise an error in the future.\n",
      "\n"
     ]
    },
    {
     "data": {
      "image/png": "[encoded data removed]",
      "text/plain": [
       "<Figure size 432x288 with 1 Axes>"
      ]
     },
     "metadata": {},
     "output_type": "display_data"
    }
   ],
   "source": [
    "# Test function\n",
    "current_event = evt_list[2]\n",
    "test=hier[0]\n",
    "vis_hierarchy(test)"
   ]
  },
  {
   "cell_type": "code",
   "execution_count": null,
   "id": "772c9620-8764-40f8-86d5-9f6d08e101e4",
   "metadata": {},
   "outputs": [],
   "source": []
  },
  {
   "cell_type": "code",
   "execution_count": 83,
   "id": "e43732e3-4a43-45c1-af30-10d7e9c2cecc",
   "metadata": {},
   "outputs": [
    {
     "name": "stderr",
     "output_type": "stream",
     "text": [
      "/tmp/ipykernel_26280/1822286734.py:9: DeprecationWarning:\n",
      "\n",
      "elementwise comparison failed; this will raise an error in the future.\n",
      "\n"
     ]
    },
    {
     "data": {
      "image/png": "[encoded data removed]",
      "text/plain": [
       "<Figure size 432x288 with 1 Axes>"
      ]
     },
     "metadata": {},
     "output_type": "display_data"
    }
   ],
   "source": [
    "# 12/3 improve visualization\n",
    "\n",
    "current_event = evt_list[2]\n",
    "hier_df=hier[0]\n",
    "\n",
    "# start of function\n",
    "edges = []\n",
    "for particle in hier_df.index.values:\n",
    "    if hier_df.iloc[particle]['neighbors'] == []: \n",
    "        break\n",
    "    else:\n",
    "        for neighbor in hier_df.iloc[particle]['neighbors']:\n",
    "            edges.append((particle, neighbor))\n",
    "\n",
    "# turn this list into a networkx graph and visualize\n",
    "G = nx.DiGraph()\n",
    "G.add_edges_from(edges)\n",
    "\n",
    "# plt.figure()\n",
    "pos = nx.spring_layout(G)\n",
    "nx.draw_networkx(G, pos)\n",
    "# plt.show()\n"
   ]
  },
  {
   "cell_type": "code",
   "execution_count": 84,
   "id": "0e32ff25-a98a-4551-bb92-de1b1736a4c9",
   "metadata": {},
   "outputs": [
    {
     "name": "stdout",
     "output_type": "stream",
     "text": [
      "24\n",
      "25\n",
      "25\n",
      "[(0, 1), (0, 3), (1, 277), (1, 270), (1, 262), (1, 243), (1, 239), (1, 227), (1, 223), (1, 224), (1, 201), (1, 140), (1, 134), (1, 127), (1, 105), (1, 67), (1, 62), (1, 58), (1, 59), (1, 46), (1, 49), (1, 13), (1, 209), (1, 64)]\n",
      "[0, 1, 3, 277, 270, 262, 243, 239, 227, 223, 224, 201, 140, 134, 127, 105, 67, 62, 58, 59, 46, 49, 13, 209, 64]\n"
     ]
    }
   ],
   "source": [
    "print(len(G.edges()))\n",
    "print(len(G.nodes()))\n",
    "print(len(pos))\n",
    "\n",
    "print((G.edges()))\n",
    "print((G.nodes()))"
   ]
  },
  {
   "cell_type": "code",
   "execution_count": 85,
   "id": "024494ba-c116-4420-bd4b-98e0cd4f83a2",
   "metadata": {},
   "outputs": [
    {
     "name": "stdout",
     "output_type": "stream",
     "text": [
      "{0: array([-0.02981338, -0.42786427]), 1: array([0.00275057, 0.03918629]), 3: array([-0.06326078, -0.89536109]), 277: array([ 0.21658032, -0.91728392]), 270: array([-0.34576031, -0.86916236]), 262: array([0.65155394, 0.75666199]), 243: array([ 0.47019358, -0.79843406]), 239: array([-0.63933517, -0.75608395]), 227: array([-0.72241832,  0.17977811]), 223: array([-0.93270695, -0.40172075]), 224: array([-0.71333878, -0.49317683]), 201: array([ 0.76134392, -0.44652125]), 140: array([0.89689612, 0.03594683]), 134: array([-0.01654141,  0.8854463 ]), 127: array([0.40443589, 0.78248378]), 105: array([ 0.91775132, -0.24293188]), 67: array([-0.29241067,  0.87231874]), 62: array([-0.94756101,  0.31128512]), 58: array([0.81035736, 0.30636776]), 59: array([0.26152107, 0.99713634]), 46: array([-0.53529627,  0.73703524]), 49: array([ 0.72840638, -0.69931444]), 13: array([-1.        , -0.06463715]), 209: array([0.89074169, 0.51837387]), 64: array([-0.7740891 ,  0.59047158])}\n"
     ]
    }
   ],
   "source": [
    "print(pos)"
   ]
  },
  {
   "cell_type": "code",
   "execution_count": 86,
   "id": "c47ab210-5cdb-40d2-b08e-751757cddbd3",
   "metadata": {},
   "outputs": [],
   "source": [
    "# different node layouts found here: https://networkx.org/documentation/stable/reference/drawing.html\n",
    "# following code adapted from https://plotly.com/python/network-graphs/ and https://towardsdatascience.com/tutorial-network-visualization-basics-with-networkx-and-plotly-and-a-little-nlp-57c9bbb55bb9\n",
    "\n",
    "edge_x = []\n",
    "edge_y = []\n",
    "for edge in G.edges():\n",
    "    x0, y0 = pos[edge[0]]\n",
    "    x1, y1 = pos[edge[1]]\n",
    "    edge_x.append(x0)\n",
    "    edge_x.append(x1)\n",
    "    edge_x.append(None)\n",
    "    edge_y.append(y0)\n",
    "    edge_y.append(y1)\n",
    "    edge_y.append(None)\n",
    "\n",
    "edge_trace = go.Scatter(\n",
    "    x=edge_x, y=edge_y,\n",
    "    line=dict(width=0.5, color='#888'),\n",
    "    hoverinfo='none',\n",
    "    mode='lines')"
   ]
  },
  {
   "cell_type": "code",
   "execution_count": 87,
   "id": "3fa62eb3-2150-41ca-99d1-3f665b58c1e4",
   "metadata": {},
   "outputs": [],
   "source": [
    "node_x = []\n",
    "node_y = []\n",
    "for node in pos:\n",
    "    node_x.append(pos[node][0])\n",
    "    node_y.append(pos[node][1])\n",
    "    \n",
    "node_trace = go.Scatter(\n",
    "    x=node_x, y=node_y,\n",
    "    mode='markers',\n",
    "    hoverinfo='text',\n",
    "    marker=dict(\n",
    "        showscale=True,\n",
    "        # colorscale options\n",
    "        #'Greys' | 'YlGnBu' | 'Greens' | 'YlOrRd' | 'Bluered' | 'RdBu' |\n",
    "        #'Reds' | 'Blues' | 'Picnic' | 'Rainbow' | 'Portland' | 'Jet' |\n",
    "        #'Hot' | 'Blackbody' | 'Earth' | 'Electric' | 'Viridis' |\n",
    "        colorscale='YlGnBu',\n",
    "        reversescale=True,\n",
    "        color=[],\n",
    "        size=10,\n",
    "        colorbar=dict(\n",
    "            thickness=15,\n",
    "            title='Number of Children',\n",
    "            xanchor='left',\n",
    "            titleside='right'\n",
    "        ),\n",
    "        line_width=2))"
   ]
  },
  {
   "cell_type": "code",
   "execution_count": 88,
   "id": "8800beee-877a-43ee-bf08-0ed2a1a1370a",
   "metadata": {},
   "outputs": [],
   "source": [
    "node_adjacencies = []\n",
    "node_text = []\n",
    "for node, adjacencies in enumerate(G.adjacency()):\n",
    "    node_adjacencies.append(len(adjacencies[1]))\n",
    "    node_text.append('g4_id: ' + str(node) + '\\n # of children: '+str(len(adjacencies[1])))\n",
    "\n",
    "node_trace.marker.color = node_adjacencies\n",
    "node_trace.text = node_text"
   ]
  },
  {
   "cell_type": "code",
   "execution_count": 89,
   "id": "285c270e-8a07-4cc9-b66d-40cb38918e54",
   "metadata": {},
   "outputs": [
    {
     "data": {
      "application/vnd.plotly.v1+json": {
       "config": {
        "plotlyServerURL": "https://plot.ly"
       },
       "data": [
        {
         "hoverinfo": "none",
         "line": {
          "color": "#888",
          "width": 0.5
         },
         "mode": "lines",
         "type": "scatter",
         "x": [
          -0.029813375490587685,
          0.002750572211450754,
          null,
          -0.029813375490587685,
          -0.06326078192342312,
          null,
          0.002750572211450754,
          0.2165803152003541,
          null,
          0.002750572211450754,
          -0.3457603066602052,
          null,
          0.002750572211450754,
          0.6515539352096565,
          null,
          0.002750572211450754,
          0.470193575183495,
          null,
          0.002750572211450754,
          -0.6393351697314978,
          null,
          0.002750572211450754,
          -0.722418323569482,
          null,
          0.002750572211450754,
          -0.9327069537051956,
          null,
          0.002750572211450754,
          -0.7133387829611413,
          null,
          0.002750572211450754,
          0.7613439173668801,
          null,
          0.002750572211450754,
          0.8968961190619602,
          null,
          0.002750572211450754,
          -0.016541408400306126,
          null,
          0.002750572211450754,
          0.40443589433176796,
          null,
          0.002750572211450754,
          0.9177513215790223,
          null,
          0.002750572211450754,
          -0.29241067141154087,
          null,
          0.002750572211450754,
          -0.9475610065009045,
          null,
          0.002750572211450754,
          0.8103573643786239,
          null,
          0.002750572211450754,
          0.2615210666450313,
          null,
          0.002750572211450754,
          -0.5352962747543019,
          null,
          0.002750572211450754,
          0.72840638036849,
          null,
          0.002750572211450754,
          -0.9999999999999999,
          null,
          0.002750572211450754,
          0.8907416932885251,
          null,
          0.002750572211450754,
          -0.7740890997166707,
          null
         ],
         "y": [
          -0.4278642673751549,
          0.03918628819947376,
          null,
          -0.4278642673751549,
          -0.8953610888398759,
          null,
          0.03918628819947376,
          -0.917283921031741,
          null,
          0.03918628819947376,
          -0.8691623613877353,
          null,
          0.03918628819947376,
          0.7566619922103577,
          null,
          0.03918628819947376,
          -0.7984340593879312,
          null,
          0.03918628819947376,
          -0.7560839507646717,
          null,
          0.03918628819947376,
          0.17977811308658165,
          null,
          0.03918628819947376,
          -0.4017207495127793,
          null,
          0.03918628819947376,
          -0.4931768320312472,
          null,
          0.03918628819947376,
          -0.44652124623641454,
          null,
          0.03918628819947376,
          0.03594683146180283,
          null,
          0.03918628819947376,
          0.8854462961297017,
          null,
          0.03918628819947376,
          0.7824837754597778,
          null,
          0.03918628819947376,
          -0.24293187594349389,
          null,
          0.03918628819947376,
          0.87231873664175,
          null,
          0.03918628819947376,
          0.31128511990867397,
          null,
          0.03918628819947376,
          0.3063677604312222,
          null,
          0.03918628819947376,
          0.9971363424732129,
          null,
          0.03918628819947376,
          0.7370352409752343,
          null,
          0.03918628819947376,
          -0.6993144373795402,
          null,
          0.03918628819947376,
          -0.06463715305637106,
          null,
          0.03918628819947376,
          0.5183738664895219,
          null,
          0.03918628819947376,
          0.5904715794796457,
          null
         ]
        },
        {
         "hoverinfo": "text",
         "marker": {
          "color": [
           2,
           22,
           0,
           0,
           0,
           0,
           0,
           0,
           0,
           0,
           0,
           0,
           0,
           0,
           0,
           0,
           0,
           0,
           0,
           0,
           0,
           0,
           0,
           0,
           0
          ],
          "colorbar": {
           "thickness": 15,
           "title": {
            "side": "right",
            "text": "Number of Children"
           },
           "xanchor": "left"
          },
          "colorscale": [
           [
            0,
            "rgb(255,255,217)"
           ],
           [
            0.125,
            "rgb(237,248,177)"
           ],
           [
            0.25,
            "rgb(199,233,180)"
           ],
           [
            0.375,
            "rgb(127,205,187)"
           ],
           [
            0.5,
            "rgb(65,182,196)"
           ],
           [
            0.625,
            "rgb(29,145,192)"
           ],
           [
            0.75,
            "rgb(34,94,168)"
           ],
           [
            0.875,
            "rgb(37,52,148)"
           ],
           [
            1,
            "rgb(8,29,88)"
           ]
          ],
          "line": {
           "width": 2
          },
          "reversescale": true,
          "showscale": true,
          "size": 10
         },
         "mode": "markers",
         "text": [
          "g4_id: 0\n # of children: 2",
          "g4_id: 1\n # of children: 22",
          "g4_id: 2\n # of children: 0",
          "g4_id: 3\n # of children: 0",
          "g4_id: 4\n # of children: 0",
          "g4_id: 5\n # of children: 0",
          "g4_id: 6\n # of children: 0",
          "g4_id: 7\n # of children: 0",
          "g4_id: 8\n # of children: 0",
          "g4_id: 9\n # of children: 0",
          "g4_id: 10\n # of children: 0",
          "g4_id: 11\n # of children: 0",
          "g4_id: 12\n # of children: 0",
          "g4_id: 13\n # of children: 0",
          "g4_id: 14\n # of children: 0",
          "g4_id: 15\n # of children: 0",
          "g4_id: 16\n # of children: 0",
          "g4_id: 17\n # of children: 0",
          "g4_id: 18\n # of children: 0",
          "g4_id: 19\n # of children: 0",
          "g4_id: 20\n # of children: 0",
          "g4_id: 21\n # of children: 0",
          "g4_id: 22\n # of children: 0",
          "g4_id: 23\n # of children: 0",
          "g4_id: 24\n # of children: 0"
         ],
         "type": "scatter",
         "x": [
          -0.029813375490587685,
          0.002750572211450754,
          -0.06326078192342312,
          0.2165803152003541,
          -0.3457603066602052,
          0.6515539352096565,
          0.470193575183495,
          -0.6393351697314978,
          -0.722418323569482,
          -0.9327069537051956,
          -0.7133387829611413,
          0.7613439173668801,
          0.8968961190619602,
          -0.016541408400306126,
          0.40443589433176796,
          0.9177513215790223,
          -0.29241067141154087,
          -0.9475610065009045,
          0.8103573643786239,
          0.2615210666450313,
          -0.5352962747543019,
          0.72840638036849,
          -0.9999999999999999,
          0.8907416932885251,
          -0.7740890997166707
         ],
         "y": [
          -0.4278642673751549,
          0.03918628819947376,
          -0.8953610888398759,
          -0.917283921031741,
          -0.8691623613877353,
          0.7566619922103577,
          -0.7984340593879312,
          -0.7560839507646717,
          0.17977811308658165,
          -0.4017207495127793,
          -0.4931768320312472,
          -0.44652124623641454,
          0.03594683146180283,
          0.8854462961297017,
          0.7824837754597778,
          -0.24293187594349389,
          0.87231873664175,
          0.31128511990867397,
          0.3063677604312222,
          0.9971363424732129,
          0.7370352409752343,
          -0.6993144373795402,
          -0.06463715305637106,
          0.5183738664895219,
          0.5904715794796457
         ]
        }
       ],
       "layout": {
        "autosize": true,
        "hovermode": "closest",
        "margin": {
         "b": 20,
         "l": 5,
         "r": 5,
         "t": 0
        },
        "showlegend": false,
        "template": {
         "data": {
          "bar": [
           {
            "error_x": {
             "color": "#2a3f5f"
            },
            "error_y": {
             "color": "#2a3f5f"
            },
            "marker": {
             "line": {
              "color": "#E5ECF6",
              "width": 0.5
             },
             "pattern": {
              "fillmode": "overlay",
              "size": 10,
              "solidity": 0.2
             }
            },
            "type": "bar"
           }
          ],
          "barpolar": [
           {
            "marker": {
             "line": {
              "color": "#E5ECF6",
              "width": 0.5
             },
             "pattern": {
              "fillmode": "overlay",
              "size": 10,
              "solidity": 0.2
             }
            },
            "type": "barpolar"
           }
          ],
          "carpet": [
           {
            "aaxis": {
             "endlinecolor": "#2a3f5f",
             "gridcolor": "white",
             "linecolor": "white",
             "minorgridcolor": "white",
             "startlinecolor": "#2a3f5f"
            },
            "baxis": {
             "endlinecolor": "#2a3f5f",
             "gridcolor": "white",
             "linecolor": "white",
             "minorgridcolor": "white",
             "startlinecolor": "#2a3f5f"
            },
            "type": "carpet"
           }
          ],
          "choropleth": [
           {
            "colorbar": {
             "outlinewidth": 0,
             "ticks": ""
            },
            "type": "choropleth"
           }
          ],
          "contour": [
           {
            "colorbar": {
             "outlinewidth": 0,
             "ticks": ""
            },
            "colorscale": [
             [
              0,
              "#0d0887"
             ],
             [
              0.1111111111111111,
              "#46039f"
             ],
             [
              0.2222222222222222,
              "#7201a8"
             ],
             [
              0.3333333333333333,
              "#9c179e"
             ],
             [
              0.4444444444444444,
              "#bd3786"
             ],
             [
              0.5555555555555556,
              "#d8576b"
             ],
             [
              0.6666666666666666,
              "#ed7953"
             ],
             [
              0.7777777777777778,
              "#fb9f3a"
             ],
             [
              0.8888888888888888,
              "#fdca26"
             ],
             [
              1,
              "#f0f921"
             ]
            ],
            "type": "contour"
           }
          ],
          "contourcarpet": [
           {
            "colorbar": {
             "outlinewidth": 0,
             "ticks": ""
            },
            "type": "contourcarpet"
           }
          ],
          "heatmap": [
           {
            "colorbar": {
             "outlinewidth": 0,
             "ticks": ""
            },
            "colorscale": [
             [
              0,
              "#0d0887"
             ],
             [
              0.1111111111111111,
              "#46039f"
             ],
             [
              0.2222222222222222,
              "#7201a8"
             ],
             [
              0.3333333333333333,
              "#9c179e"
             ],
             [
              0.4444444444444444,
              "#bd3786"
             ],
             [
              0.5555555555555556,
              "#d8576b"
             ],
             [
              0.6666666666666666,
              "#ed7953"
             ],
             [
              0.7777777777777778,
              "#fb9f3a"
             ],
             [
              0.8888888888888888,
              "#fdca26"
             ],
             [
              1,
              "#f0f921"
             ]
            ],
            "type": "heatmap"
           }
          ],
          "heatmapgl": [
           {
            "colorbar": {
             "outlinewidth": 0,
             "ticks": ""
            },
            "colorscale": [
             [
              0,
              "#0d0887"
             ],
             [
              0.1111111111111111,
              "#46039f"
             ],
             [
              0.2222222222222222,
              "#7201a8"
             ],
             [
              0.3333333333333333,
              "#9c179e"
             ],
             [
              0.4444444444444444,
              "#bd3786"
             ],
             [
              0.5555555555555556,
              "#d8576b"
             ],
             [
              0.6666666666666666,
              "#ed7953"
             ],
             [
              0.7777777777777778,
              "#fb9f3a"
             ],
             [
              0.8888888888888888,
              "#fdca26"
             ],
             [
              1,
              "#f0f921"
             ]
            ],
            "type": "heatmapgl"
           }
          ],
          "histogram": [
           {
            "marker": {
             "pattern": {
              "fillmode": "overlay",
              "size": 10,
              "solidity": 0.2
             }
            },
            "type": "histogram"
           }
          ],
          "histogram2d": [
           {
            "colorbar": {
             "outlinewidth": 0,
             "ticks": ""
            },
            "colorscale": [
             [
              0,
              "#0d0887"
             ],
             [
              0.1111111111111111,
              "#46039f"
             ],
             [
              0.2222222222222222,
              "#7201a8"
             ],
             [
              0.3333333333333333,
              "#9c179e"
             ],
             [
              0.4444444444444444,
              "#bd3786"
             ],
             [
              0.5555555555555556,
              "#d8576b"
             ],
             [
              0.6666666666666666,
              "#ed7953"
             ],
             [
              0.7777777777777778,
              "#fb9f3a"
             ],
             [
              0.8888888888888888,
              "#fdca26"
             ],
             [
              1,
              "#f0f921"
             ]
            ],
            "type": "histogram2d"
           }
          ],
          "histogram2dcontour": [
           {
            "colorbar": {
             "outlinewidth": 0,
             "ticks": ""
            },
            "colorscale": [
             [
              0,
              "#0d0887"
             ],
             [
              0.1111111111111111,
              "#46039f"
             ],
             [
              0.2222222222222222,
              "#7201a8"
             ],
             [
              0.3333333333333333,
              "#9c179e"
             ],
             [
              0.4444444444444444,
              "#bd3786"
             ],
             [
              0.5555555555555556,
              "#d8576b"
             ],
             [
              0.6666666666666666,
              "#ed7953"
             ],
             [
              0.7777777777777778,
              "#fb9f3a"
             ],
             [
              0.8888888888888888,
              "#fdca26"
             ],
             [
              1,
              "#f0f921"
             ]
            ],
            "type": "histogram2dcontour"
           }
          ],
          "mesh3d": [
           {
            "colorbar": {
             "outlinewidth": 0,
             "ticks": ""
            },
            "type": "mesh3d"
           }
          ],
          "parcoords": [
           {
            "line": {
             "colorbar": {
              "outlinewidth": 0,
              "ticks": ""
             }
            },
            "type": "parcoords"
           }
          ],
          "pie": [
           {
            "automargin": true,
            "type": "pie"
           }
          ],
          "scatter": [
           {
            "marker": {
             "colorbar": {
              "outlinewidth": 0,
              "ticks": ""
             }
            },
            "type": "scatter"
           }
          ],
          "scatter3d": [
           {
            "line": {
             "colorbar": {
              "outlinewidth": 0,
              "ticks": ""
             }
            },
            "marker": {
             "colorbar": {
              "outlinewidth": 0,
              "ticks": ""
             }
            },
            "type": "scatter3d"
           }
          ],
          "scattercarpet": [
           {
            "marker": {
             "colorbar": {
              "outlinewidth": 0,
              "ticks": ""
             }
            },
            "type": "scattercarpet"
           }
          ],
          "scattergeo": [
           {
            "marker": {
             "colorbar": {
              "outlinewidth": 0,
              "ticks": ""
             }
            },
            "type": "scattergeo"
           }
          ],
          "scattergl": [
           {
            "marker": {
             "colorbar": {
              "outlinewidth": 0,
              "ticks": ""
             }
            },
            "type": "scattergl"
           }
          ],
          "scattermapbox": [
           {
            "marker": {
             "colorbar": {
              "outlinewidth": 0,
              "ticks": ""
             }
            },
            "type": "scattermapbox"
           }
          ],
          "scatterpolar": [
           {
            "marker": {
             "colorbar": {
              "outlinewidth": 0,
              "ticks": ""
             }
            },
            "type": "scatterpolar"
           }
          ],
          "scatterpolargl": [
           {
            "marker": {
             "colorbar": {
              "outlinewidth": 0,
              "ticks": ""
             }
            },
            "type": "scatterpolargl"
           }
          ],
          "scatterternary": [
           {
            "marker": {
             "colorbar": {
              "outlinewidth": 0,
              "ticks": ""
             }
            },
            "type": "scatterternary"
           }
          ],
          "surface": [
           {
            "colorbar": {
             "outlinewidth": 0,
             "ticks": ""
            },
            "colorscale": [
             [
              0,
              "#0d0887"
             ],
             [
              0.1111111111111111,
              "#46039f"
             ],
             [
              0.2222222222222222,
              "#7201a8"
             ],
             [
              0.3333333333333333,
              "#9c179e"
             ],
             [
              0.4444444444444444,
              "#bd3786"
             ],
             [
              0.5555555555555556,
              "#d8576b"
             ],
             [
              0.6666666666666666,
              "#ed7953"
             ],
             [
              0.7777777777777778,
              "#fb9f3a"
             ],
             [
              0.8888888888888888,
              "#fdca26"
             ],
             [
              1,
              "#f0f921"
             ]
            ],
            "type": "surface"
           }
          ],
          "table": [
           {
            "cells": {
             "fill": {
              "color": "#EBF0F8"
             },
             "line": {
              "color": "white"
             }
            },
            "header": {
             "fill": {
              "color": "#C8D4E3"
             },
             "line": {
              "color": "white"
             }
            },
            "type": "table"
           }
          ]
         },
         "layout": {
          "annotationdefaults": {
           "arrowcolor": "#2a3f5f",
           "arrowhead": 0,
           "arrowwidth": 1
          },
          "autotypenumbers": "strict",
          "coloraxis": {
           "colorbar": {
            "outlinewidth": 0,
            "ticks": ""
           }
          },
          "colorscale": {
           "diverging": [
            [
             0,
             "#8e0152"
            ],
            [
             0.1,
             "#c51b7d"
            ],
            [
             0.2,
             "#de77ae"
            ],
            [
             0.3,
             "#f1b6da"
            ],
            [
             0.4,
             "#fde0ef"
            ],
            [
             0.5,
             "#f7f7f7"
            ],
            [
             0.6,
             "#e6f5d0"
            ],
            [
             0.7,
             "#b8e186"
            ],
            [
             0.8,
             "#7fbc41"
            ],
            [
             0.9,
             "#4d9221"
            ],
            [
             1,
             "#276419"
            ]
           ],
           "sequential": [
            [
             0,
             "#0d0887"
            ],
            [
             0.1111111111111111,
             "#46039f"
            ],
            [
             0.2222222222222222,
             "#7201a8"
            ],
            [
             0.3333333333333333,
             "#9c179e"
            ],
            [
             0.4444444444444444,
             "#bd3786"
            ],
            [
             0.5555555555555556,
             "#d8576b"
            ],
            [
             0.6666666666666666,
             "#ed7953"
            ],
            [
             0.7777777777777778,
             "#fb9f3a"
            ],
            [
             0.8888888888888888,
             "#fdca26"
            ],
            [
             1,
             "#f0f921"
            ]
           ],
           "sequentialminus": [
            [
             0,
             "#0d0887"
            ],
            [
             0.1111111111111111,
             "#46039f"
            ],
            [
             0.2222222222222222,
             "#7201a8"
            ],
            [
             0.3333333333333333,
             "#9c179e"
            ],
            [
             0.4444444444444444,
             "#bd3786"
            ],
            [
             0.5555555555555556,
             "#d8576b"
            ],
            [
             0.6666666666666666,
             "#ed7953"
            ],
            [
             0.7777777777777778,
             "#fb9f3a"
            ],
            [
             0.8888888888888888,
             "#fdca26"
            ],
            [
             1,
             "#f0f921"
            ]
           ]
          },
          "colorway": [
           "#636efa",
           "#EF553B",
           "#00cc96",
           "#ab63fa",
           "#FFA15A",
           "#19d3f3",
           "#FF6692",
           "#B6E880",
           "#FF97FF",
           "#FECB52"
          ],
          "font": {
           "color": "#2a3f5f"
          },
          "geo": {
           "bgcolor": "white",
           "lakecolor": "white",
           "landcolor": "#E5ECF6",
           "showlakes": true,
           "showland": true,
           "subunitcolor": "white"
          },
          "hoverlabel": {
           "align": "left"
          },
          "hovermode": "closest",
          "mapbox": {
           "style": "light"
          },
          "paper_bgcolor": "white",
          "plot_bgcolor": "#E5ECF6",
          "polar": {
           "angularaxis": {
            "gridcolor": "white",
            "linecolor": "white",
            "ticks": ""
           },
           "bgcolor": "#E5ECF6",
           "radialaxis": {
            "gridcolor": "white",
            "linecolor": "white",
            "ticks": ""
           }
          },
          "scene": {
           "xaxis": {
            "backgroundcolor": "#E5ECF6",
            "gridcolor": "white",
            "gridwidth": 2,
            "linecolor": "white",
            "showbackground": true,
            "ticks": "",
            "zerolinecolor": "white"
           },
           "yaxis": {
            "backgroundcolor": "#E5ECF6",
            "gridcolor": "white",
            "gridwidth": 2,
            "linecolor": "white",
            "showbackground": true,
            "ticks": "",
            "zerolinecolor": "white"
           },
           "zaxis": {
            "backgroundcolor": "#E5ECF6",
            "gridcolor": "white",
            "gridwidth": 2,
            "linecolor": "white",
            "showbackground": true,
            "ticks": "",
            "zerolinecolor": "white"
           }
          },
          "shapedefaults": {
           "line": {
            "color": "#2a3f5f"
           }
          },
          "ternary": {
           "aaxis": {
            "gridcolor": "white",
            "linecolor": "white",
            "ticks": ""
           },
           "baxis": {
            "gridcolor": "white",
            "linecolor": "white",
            "ticks": ""
           },
           "bgcolor": "#E5ECF6",
           "caxis": {
            "gridcolor": "white",
            "linecolor": "white",
            "ticks": ""
           }
          },
          "title": {
           "x": 0.05
          },
          "xaxis": {
           "automargin": true,
           "gridcolor": "white",
           "linecolor": "white",
           "ticks": "",
           "title": {
            "standoff": 15
           },
           "zerolinecolor": "white",
           "zerolinewidth": 2
          },
          "yaxis": {
           "automargin": true,
           "gridcolor": "white",
           "linecolor": "white",
           "ticks": "",
           "title": {
            "standoff": 15
           },
           "zerolinecolor": "white",
           "zerolinewidth": 2
          }
         }
        },
        "title": {
         "font": {
          "size": 16
         },
         "text": "<br>Particle Hierarchy"
        },
        "xaxis": {
         "autorange": true,
         "range": [
          -1.1194527604570548,
          1.0372040820360773
         ],
         "showgrid": false,
         "showticklabels": false,
         "type": "linear",
         "zeroline": false
        },
        "yaxis": {
         "autorange": true,
         "range": [
          -1.068937314989118,
          1.1487897364305901
         ],
         "showgrid": false,
         "showticklabels": false,
         "type": "linear",
         "zeroline": false
        }
       }
      },
      "image/png": "[encoded data removed]",
      "text/html": [
       "<div>                            <div id=\"eb5ee2ff-148f-411a-8564-0f8d59db1c7c\" class=\"plotly-graph-div\" style=\"height:525px; width:100%;\"></div>            <script type=\"text/javascript\">                require([\"plotly\"], function(Plotly) {                    window.PLOTLYENV=window.PLOTLYENV || {};                                    if (document.getElementById(\"eb5ee2ff-148f-411a-8564-0f8d59db1c7c\")) {                    Plotly.newPlot(                        \"eb5ee2ff-148f-411a-8564-0f8d59db1c7c\",                        [{\"hoverinfo\":\"none\",\"line\":{\"color\":\"#888\",\"width\":0.5},\"mode\":\"lines\",\"type\":\"scatter\",\"x\":[-0.029813375490587685,0.002750572211450754,null,-0.029813375490587685,-0.06326078192342312,null,0.002750572211450754,0.2165803152003541,null,0.002750572211450754,-0.3457603066602052,null,0.002750572211450754,0.6515539352096565,null,0.002750572211450754,0.470193575183495,null,0.002750572211450754,-0.6393351697314978,null,0.002750572211450754,-0.722418323569482,null,0.002750572211450754,-0.9327069537051956,null,0.002750572211450754,-0.7133387829611413,null,0.002750572211450754,0.7613439173668801,null,0.002750572211450754,0.8968961190619602,null,0.002750572211450754,-0.016541408400306126,null,0.002750572211450754,0.40443589433176796,null,0.002750572211450754,0.9177513215790223,null,0.002750572211450754,-0.29241067141154087,null,0.002750572211450754,-0.9475610065009045,null,0.002750572211450754,0.8103573643786239,null,0.002750572211450754,0.2615210666450313,null,0.002750572211450754,-0.5352962747543019,null,0.002750572211450754,0.72840638036849,null,0.002750572211450754,-0.9999999999999999,null,0.002750572211450754,0.8907416932885251,null,0.002750572211450754,-0.7740890997166707,null],\"y\":[-0.4278642673751549,0.03918628819947376,null,-0.4278642673751549,-0.8953610888398759,null,0.03918628819947376,-0.917283921031741,null,0.03918628819947376,-0.8691623613877353,null,0.03918628819947376,0.7566619922103577,null,0.03918628819947376,-0.7984340593879312,null,0.03918628819947376,-0.7560839507646717,null,0.03918628819947376,0.17977811308658165,null,0.03918628819947376,-0.4017207495127793,null,0.03918628819947376,-0.4931768320312472,null,0.03918628819947376,-0.44652124623641454,null,0.03918628819947376,0.03594683146180283,null,0.03918628819947376,0.8854462961297017,null,0.03918628819947376,0.7824837754597778,null,0.03918628819947376,-0.24293187594349389,null,0.03918628819947376,0.87231873664175,null,0.03918628819947376,0.31128511990867397,null,0.03918628819947376,0.3063677604312222,null,0.03918628819947376,0.9971363424732129,null,0.03918628819947376,0.7370352409752343,null,0.03918628819947376,-0.6993144373795402,null,0.03918628819947376,-0.06463715305637106,null,0.03918628819947376,0.5183738664895219,null,0.03918628819947376,0.5904715794796457,null]},{\"hoverinfo\":\"text\",\"marker\":{\"color\":[2,22,0,0,0,0,0,0,0,0,0,0,0,0,0,0,0,0,0,0,0,0,0,0,0],\"colorbar\":{\"thickness\":15,\"title\":{\"side\":\"right\",\"text\":\"Number of Children\"},\"xanchor\":\"left\"},\"colorscale\":[[0.0,\"rgb(255,255,217)\"],[0.125,\"rgb(237,248,177)\"],[0.25,\"rgb(199,233,180)\"],[0.375,\"rgb(127,205,187)\"],[0.5,\"rgb(65,182,196)\"],[0.625,\"rgb(29,145,192)\"],[0.75,\"rgb(34,94,168)\"],[0.875,\"rgb(37,52,148)\"],[1.0,\"rgb(8,29,88)\"]],\"line\":{\"width\":2},\"reversescale\":true,\"showscale\":true,\"size\":10},\"mode\":\"markers\",\"text\":[\"g4_id: 0\\n # of children: 2\",\"g4_id: 1\\n # of children: 22\",\"g4_id: 2\\n # of children: 0\",\"g4_id: 3\\n # of children: 0\",\"g4_id: 4\\n # of children: 0\",\"g4_id: 5\\n # of children: 0\",\"g4_id: 6\\n # of children: 0\",\"g4_id: 7\\n # of children: 0\",\"g4_id: 8\\n # of children: 0\",\"g4_id: 9\\n # of children: 0\",\"g4_id: 10\\n # of children: 0\",\"g4_id: 11\\n # of children: 0\",\"g4_id: 12\\n # of children: 0\",\"g4_id: 13\\n # of children: 0\",\"g4_id: 14\\n # of children: 0\",\"g4_id: 15\\n # of children: 0\",\"g4_id: 16\\n # of children: 0\",\"g4_id: 17\\n # of children: 0\",\"g4_id: 18\\n # of children: 0\",\"g4_id: 19\\n # of children: 0\",\"g4_id: 20\\n # of children: 0\",\"g4_id: 21\\n # of children: 0\",\"g4_id: 22\\n # of children: 0\",\"g4_id: 23\\n # of children: 0\",\"g4_id: 24\\n # of children: 0\"],\"type\":\"scatter\",\"x\":[-0.029813375490587685,0.002750572211450754,-0.06326078192342312,0.2165803152003541,-0.3457603066602052,0.6515539352096565,0.470193575183495,-0.6393351697314978,-0.722418323569482,-0.9327069537051956,-0.7133387829611413,0.7613439173668801,0.8968961190619602,-0.016541408400306126,0.40443589433176796,0.9177513215790223,-0.29241067141154087,-0.9475610065009045,0.8103573643786239,0.2615210666450313,-0.5352962747543019,0.72840638036849,-0.9999999999999999,0.8907416932885251,-0.7740890997166707],\"y\":[-0.4278642673751549,0.03918628819947376,-0.8953610888398759,-0.917283921031741,-0.8691623613877353,0.7566619922103577,-0.7984340593879312,-0.7560839507646717,0.17977811308658165,-0.4017207495127793,-0.4931768320312472,-0.44652124623641454,0.03594683146180283,0.8854462961297017,0.7824837754597778,-0.24293187594349389,0.87231873664175,0.31128511990867397,0.3063677604312222,0.9971363424732129,0.7370352409752343,-0.6993144373795402,-0.06463715305637106,0.5183738664895219,0.5904715794796457]}],                        {\"hovermode\":\"closest\",\"margin\":{\"b\":20,\"l\":5,\"r\":5,\"t\":0},\"showlegend\":false,\"template\":{\"data\":{\"bar\":[{\"error_x\":{\"color\":\"#2a3f5f\"},\"error_y\":{\"color\":\"#2a3f5f\"},\"marker\":{\"line\":{\"color\":\"#E5ECF6\",\"width\":0.5},\"pattern\":{\"fillmode\":\"overlay\",\"size\":10,\"solidity\":0.2}},\"type\":\"bar\"}],\"barpolar\":[{\"marker\":{\"line\":{\"color\":\"#E5ECF6\",\"width\":0.5},\"pattern\":{\"fillmode\":\"overlay\",\"size\":10,\"solidity\":0.2}},\"type\":\"barpolar\"}],\"carpet\":[{\"aaxis\":{\"endlinecolor\":\"#2a3f5f\",\"gridcolor\":\"white\",\"linecolor\":\"white\",\"minorgridcolor\":\"white\",\"startlinecolor\":\"#2a3f5f\"},\"baxis\":{\"endlinecolor\":\"#2a3f5f\",\"gridcolor\":\"white\",\"linecolor\":\"white\",\"minorgridcolor\":\"white\",\"startlinecolor\":\"#2a3f5f\"},\"type\":\"carpet\"}],\"choropleth\":[{\"colorbar\":{\"outlinewidth\":0,\"ticks\":\"\"},\"type\":\"choropleth\"}],\"contour\":[{\"colorbar\":{\"outlinewidth\":0,\"ticks\":\"\"},\"colorscale\":[[0.0,\"#0d0887\"],[0.1111111111111111,\"#46039f\"],[0.2222222222222222,\"#7201a8\"],[0.3333333333333333,\"#9c179e\"],[0.4444444444444444,\"#bd3786\"],[0.5555555555555556,\"#d8576b\"],[0.6666666666666666,\"#ed7953\"],[0.7777777777777778,\"#fb9f3a\"],[0.8888888888888888,\"#fdca26\"],[1.0,\"#f0f921\"]],\"type\":\"contour\"}],\"contourcarpet\":[{\"colorbar\":{\"outlinewidth\":0,\"ticks\":\"\"},\"type\":\"contourcarpet\"}],\"heatmap\":[{\"colorbar\":{\"outlinewidth\":0,\"ticks\":\"\"},\"colorscale\":[[0.0,\"#0d0887\"],[0.1111111111111111,\"#46039f\"],[0.2222222222222222,\"#7201a8\"],[0.3333333333333333,\"#9c179e\"],[0.4444444444444444,\"#bd3786\"],[0.5555555555555556,\"#d8576b\"],[0.6666666666666666,\"#ed7953\"],[0.7777777777777778,\"#fb9f3a\"],[0.8888888888888888,\"#fdca26\"],[1.0,\"#f0f921\"]],\"type\":\"heatmap\"}],\"heatmapgl\":[{\"colorbar\":{\"outlinewidth\":0,\"ticks\":\"\"},\"colorscale\":[[0.0,\"#0d0887\"],[0.1111111111111111,\"#46039f\"],[0.2222222222222222,\"#7201a8\"],[0.3333333333333333,\"#9c179e\"],[0.4444444444444444,\"#bd3786\"],[0.5555555555555556,\"#d8576b\"],[0.6666666666666666,\"#ed7953\"],[0.7777777777777778,\"#fb9f3a\"],[0.8888888888888888,\"#fdca26\"],[1.0,\"#f0f921\"]],\"type\":\"heatmapgl\"}],\"histogram\":[{\"marker\":{\"pattern\":{\"fillmode\":\"overlay\",\"size\":10,\"solidity\":0.2}},\"type\":\"histogram\"}],\"histogram2d\":[{\"colorbar\":{\"outlinewidth\":0,\"ticks\":\"\"},\"colorscale\":[[0.0,\"#0d0887\"],[0.1111111111111111,\"#46039f\"],[0.2222222222222222,\"#7201a8\"],[0.3333333333333333,\"#9c179e\"],[0.4444444444444444,\"#bd3786\"],[0.5555555555555556,\"#d8576b\"],[0.6666666666666666,\"#ed7953\"],[0.7777777777777778,\"#fb9f3a\"],[0.8888888888888888,\"#fdca26\"],[1.0,\"#f0f921\"]],\"type\":\"histogram2d\"}],\"histogram2dcontour\":[{\"colorbar\":{\"outlinewidth\":0,\"ticks\":\"\"},\"colorscale\":[[0.0,\"#0d0887\"],[0.1111111111111111,\"#46039f\"],[0.2222222222222222,\"#7201a8\"],[0.3333333333333333,\"#9c179e\"],[0.4444444444444444,\"#bd3786\"],[0.5555555555555556,\"#d8576b\"],[0.6666666666666666,\"#ed7953\"],[0.7777777777777778,\"#fb9f3a\"],[0.8888888888888888,\"#fdca26\"],[1.0,\"#f0f921\"]],\"type\":\"histogram2dcontour\"}],\"mesh3d\":[{\"colorbar\":{\"outlinewidth\":0,\"ticks\":\"\"},\"type\":\"mesh3d\"}],\"parcoords\":[{\"line\":{\"colorbar\":{\"outlinewidth\":0,\"ticks\":\"\"}},\"type\":\"parcoords\"}],\"pie\":[{\"automargin\":true,\"type\":\"pie\"}],\"scatter\":[{\"marker\":{\"colorbar\":{\"outlinewidth\":0,\"ticks\":\"\"}},\"type\":\"scatter\"}],\"scatter3d\":[{\"line\":{\"colorbar\":{\"outlinewidth\":0,\"ticks\":\"\"}},\"marker\":{\"colorbar\":{\"outlinewidth\":0,\"ticks\":\"\"}},\"type\":\"scatter3d\"}],\"scattercarpet\":[{\"marker\":{\"colorbar\":{\"outlinewidth\":0,\"ticks\":\"\"}},\"type\":\"scattercarpet\"}],\"scattergeo\":[{\"marker\":{\"colorbar\":{\"outlinewidth\":0,\"ticks\":\"\"}},\"type\":\"scattergeo\"}],\"scattergl\":[{\"marker\":{\"colorbar\":{\"outlinewidth\":0,\"ticks\":\"\"}},\"type\":\"scattergl\"}],\"scattermapbox\":[{\"marker\":{\"colorbar\":{\"outlinewidth\":0,\"ticks\":\"\"}},\"type\":\"scattermapbox\"}],\"scatterpolar\":[{\"marker\":{\"colorbar\":{\"outlinewidth\":0,\"ticks\":\"\"}},\"type\":\"scatterpolar\"}],\"scatterpolargl\":[{\"marker\":{\"colorbar\":{\"outlinewidth\":0,\"ticks\":\"\"}},\"type\":\"scatterpolargl\"}],\"scatterternary\":[{\"marker\":{\"colorbar\":{\"outlinewidth\":0,\"ticks\":\"\"}},\"type\":\"scatterternary\"}],\"surface\":[{\"colorbar\":{\"outlinewidth\":0,\"ticks\":\"\"},\"colorscale\":[[0.0,\"#0d0887\"],[0.1111111111111111,\"#46039f\"],[0.2222222222222222,\"#7201a8\"],[0.3333333333333333,\"#9c179e\"],[0.4444444444444444,\"#bd3786\"],[0.5555555555555556,\"#d8576b\"],[0.6666666666666666,\"#ed7953\"],[0.7777777777777778,\"#fb9f3a\"],[0.8888888888888888,\"#fdca26\"],[1.0,\"#f0f921\"]],\"type\":\"surface\"}],\"table\":[{\"cells\":{\"fill\":{\"color\":\"#EBF0F8\"},\"line\":{\"color\":\"white\"}},\"header\":{\"fill\":{\"color\":\"#C8D4E3\"},\"line\":{\"color\":\"white\"}},\"type\":\"table\"}]},\"layout\":{\"annotationdefaults\":{\"arrowcolor\":\"#2a3f5f\",\"arrowhead\":0,\"arrowwidth\":1},\"autotypenumbers\":\"strict\",\"coloraxis\":{\"colorbar\":{\"outlinewidth\":0,\"ticks\":\"\"}},\"colorscale\":{\"diverging\":[[0,\"#8e0152\"],[0.1,\"#c51b7d\"],[0.2,\"#de77ae\"],[0.3,\"#f1b6da\"],[0.4,\"#fde0ef\"],[0.5,\"#f7f7f7\"],[0.6,\"#e6f5d0\"],[0.7,\"#b8e186\"],[0.8,\"#7fbc41\"],[0.9,\"#4d9221\"],[1,\"#276419\"]],\"sequential\":[[0.0,\"#0d0887\"],[0.1111111111111111,\"#46039f\"],[0.2222222222222222,\"#7201a8\"],[0.3333333333333333,\"#9c179e\"],[0.4444444444444444,\"#bd3786\"],[0.5555555555555556,\"#d8576b\"],[0.6666666666666666,\"#ed7953\"],[0.7777777777777778,\"#fb9f3a\"],[0.8888888888888888,\"#fdca26\"],[1.0,\"#f0f921\"]],\"sequentialminus\":[[0.0,\"#0d0887\"],[0.1111111111111111,\"#46039f\"],[0.2222222222222222,\"#7201a8\"],[0.3333333333333333,\"#9c179e\"],[0.4444444444444444,\"#bd3786\"],[0.5555555555555556,\"#d8576b\"],[0.6666666666666666,\"#ed7953\"],[0.7777777777777778,\"#fb9f3a\"],[0.8888888888888888,\"#fdca26\"],[1.0,\"#f0f921\"]]},\"colorway\":[\"#636efa\",\"#EF553B\",\"#00cc96\",\"#ab63fa\",\"#FFA15A\",\"#19d3f3\",\"#FF6692\",\"#B6E880\",\"#FF97FF\",\"#FECB52\"],\"font\":{\"color\":\"#2a3f5f\"},\"geo\":{\"bgcolor\":\"white\",\"lakecolor\":\"white\",\"landcolor\":\"#E5ECF6\",\"showlakes\":true,\"showland\":true,\"subunitcolor\":\"white\"},\"hoverlabel\":{\"align\":\"left\"},\"hovermode\":\"closest\",\"mapbox\":{\"style\":\"light\"},\"paper_bgcolor\":\"white\",\"plot_bgcolor\":\"#E5ECF6\",\"polar\":{\"angularaxis\":{\"gridcolor\":\"white\",\"linecolor\":\"white\",\"ticks\":\"\"},\"bgcolor\":\"#E5ECF6\",\"radialaxis\":{\"gridcolor\":\"white\",\"linecolor\":\"white\",\"ticks\":\"\"}},\"scene\":{\"xaxis\":{\"backgroundcolor\":\"#E5ECF6\",\"gridcolor\":\"white\",\"gridwidth\":2,\"linecolor\":\"white\",\"showbackground\":true,\"ticks\":\"\",\"zerolinecolor\":\"white\"},\"yaxis\":{\"backgroundcolor\":\"#E5ECF6\",\"gridcolor\":\"white\",\"gridwidth\":2,\"linecolor\":\"white\",\"showbackground\":true,\"ticks\":\"\",\"zerolinecolor\":\"white\"},\"zaxis\":{\"backgroundcolor\":\"#E5ECF6\",\"gridcolor\":\"white\",\"gridwidth\":2,\"linecolor\":\"white\",\"showbackground\":true,\"ticks\":\"\",\"zerolinecolor\":\"white\"}},\"shapedefaults\":{\"line\":{\"color\":\"#2a3f5f\"}},\"ternary\":{\"aaxis\":{\"gridcolor\":\"white\",\"linecolor\":\"white\",\"ticks\":\"\"},\"baxis\":{\"gridcolor\":\"white\",\"linecolor\":\"white\",\"ticks\":\"\"},\"bgcolor\":\"#E5ECF6\",\"caxis\":{\"gridcolor\":\"white\",\"linecolor\":\"white\",\"ticks\":\"\"}},\"title\":{\"x\":0.05},\"xaxis\":{\"automargin\":true,\"gridcolor\":\"white\",\"linecolor\":\"white\",\"ticks\":\"\",\"title\":{\"standoff\":15},\"zerolinecolor\":\"white\",\"zerolinewidth\":2},\"yaxis\":{\"automargin\":true,\"gridcolor\":\"white\",\"linecolor\":\"white\",\"ticks\":\"\",\"title\":{\"standoff\":15},\"zerolinecolor\":\"white\",\"zerolinewidth\":2}}},\"title\":{\"font\":{\"size\":16},\"text\":\"<br>Particle Hierarchy\"},\"xaxis\":{\"showgrid\":false,\"showticklabels\":false,\"zeroline\":false},\"yaxis\":{\"showgrid\":false,\"showticklabels\":false,\"zeroline\":false}},                        {\"responsive\": true}                    ).then(function(){\n",
       "                            \n",
       "var gd = document.getElementById('eb5ee2ff-148f-411a-8564-0f8d59db1c7c');\n",
       "var x = new MutationObserver(function (mutations, observer) {{\n",
       "        var display = window.getComputedStyle(gd).display;\n",
       "        if (!display || display === 'none') {{\n",
       "            console.log([gd, 'removed!']);\n",
       "            Plotly.purge(gd);\n",
       "            observer.disconnect();\n",
       "        }}\n",
       "}});\n",
       "\n",
       "// Listen for the removal of the full notebook cells\n",
       "var notebookContainer = gd.closest('#notebook-container');\n",
       "if (notebookContainer) {{\n",
       "    x.observe(notebookContainer, {childList: true});\n",
       "}}\n",
       "\n",
       "// Listen for the clearing of the current output cell\n",
       "var outputEl = gd.closest('.output');\n",
       "if (outputEl) {{\n",
       "    x.observe(outputEl, {childList: true});\n",
       "}}\n",
       "\n",
       "                        })                };                });            </script>        </div>"
      ]
     },
     "metadata": {},
     "output_type": "display_data"
    }
   ],
   "source": [
    "fig = go.Figure(data=[edge_trace, node_trace],\n",
    "             layout=go.Layout(\n",
    "                title='<br>Particle Hierarchy',\n",
    "                titlefont_size=16,\n",
    "                showlegend=False,\n",
    "                hovermode='closest',\n",
    "                margin=dict(b=20,l=5,r=5,t=0),\n",
    "                # annotations=[ dict(\n",
    "                #     text=\"Python code: <a href='https://plotly.com/ipython-notebooks/network-graphs/'> https://plotly.com/ipython-notebooks/network-graphs/</a>\",\n",
    "                #     showarrow=False,\n",
    "                #     xref=\"paper\", yref=\"paper\",\n",
    "                #     x=0.005, y=-0.002 ) ],\n",
    "                xaxis=dict(showgrid=False, zeroline=False, showticklabels=False),\n",
    "                yaxis=dict(showgrid=False, zeroline=False, showticklabels=False))\n",
    "                )\n",
    "fig.show()\n"
   ]
  },
  {
   "cell_type": "code",
   "execution_count": null,
   "id": "aadc91de-a6cb-4783-a1aa-33a02a707782",
   "metadata": {},
   "outputs": [],
   "source": []
  },
  {
   "cell_type": "code",
   "execution_count": 32,
   "id": "09bebe34-cd2e-4f46-a86f-522745be6872",
   "metadata": {},
   "outputs": [],
   "source": [
    "# Below is old code for figuring out original (non-interactive) vis function"
   ]
  },
  {
   "cell_type": "code",
   "execution_count": 51,
   "id": "6fdec0f0-6305-4173-bda1-c7ab8558db7f",
   "metadata": {},
   "outputs": [
    {
     "data": {
      "text/plain": [
       "[0, 1, 5, 4, 108, 95]"
      ]
     },
     "execution_count": 51,
     "metadata": {},
     "output_type": "execute_result"
    }
   ],
   "source": [
    "table1 = hier[0]\n",
    "table1.index.values.tolist()\n",
    "# vis_hierarchy(table_1)"
   ]
  },
  {
   "cell_type": "code",
   "execution_count": 73,
   "id": "e6f70533-ef69-4256-b434-c275b8ef4db0",
   "metadata": {},
   "outputs": [
    {
     "name": "stderr",
     "output_type": "stream",
     "text": [
      "/tmp/ipykernel_6779/3386597217.py:7: DeprecationWarning: elementwise comparison failed; this will raise an error in the future.\n",
      "  if table1.iloc[particle]['neighbors'] == []:\n"
     ]
    },
    {
     "name": "stdout",
     "output_type": "stream",
     "text": [
      "[(0, 1), (0, 5), (0, 4), (1, 108), (1, 95)]\n",
      "DiGraph with 6 nodes and 5 edges\n"
     ]
    },
    {
     "data": {
      "image/png": "[encoded data removed]",
      "text/plain": [
       "<Figure size 432x288 with 1 Axes>"
      ]
     },
     "metadata": {},
     "output_type": "display_data"
    }
   ],
   "source": [
    "particles = table1.index.values #.tolist()\n",
    "# table1.iloc[5]['neighbors']\n",
    "\n",
    "edges = []\n",
    "for particle in particles:\n",
    "#     print(table1.iloc[particle]['neighbors'])\n",
    "    if table1.iloc[particle]['neighbors'] == []: \n",
    "        break\n",
    "    else:\n",
    "#         print(table1.iloc[particle]['neighbors'])\n",
    "        for neighbor in table1.iloc[particle]['neighbors']:\n",
    "            edges.append((particle, neighbor))\n",
    "\n",
    "print(edges)\n",
    "\n",
    "G = nx.DiGraph() # or G = nx.DiGraph()\n",
    "G.add_edges_from(edges)\n",
    "print(G)\n",
    "\n",
    "plt.title(\"draw_networkx\")\n",
    "nx.draw_networkx(G)\n",
    "\n",
    "plt.show()"
   ]
  },
  {
   "cell_type": "code",
   "execution_count": 72,
   "id": "3c882421-66b6-40ec-9f37-5a371536e9c5",
   "metadata": {},
   "outputs": [
    {
     "ename": "ImportError",
     "evalue": "requires pygraphviz http://pygraphviz.github.io/",
     "output_type": "error",
     "traceback": [
      "\u001b[0;31m---------------------------------------------------------------------------\u001b[0m",
      "\u001b[0;31mModuleNotFoundError\u001b[0m                       Traceback (most recent call last)",
      "\u001b[0;32m/usr/local/miniconda3/lib/python3.9/site-packages/networkx/drawing/nx_agraph.py\u001b[0m in \u001b[0;36mto_agraph\u001b[0;34m(N)\u001b[0m\n\u001b[1;32m    131\u001b[0m     \u001b[0;32mtry\u001b[0m\u001b[0;34m:\u001b[0m\u001b[0;34m\u001b[0m\u001b[0;34m\u001b[0m\u001b[0m\n\u001b[0;32m--> 132\u001b[0;31m         \u001b[0;32mimport\u001b[0m \u001b[0mpygraphviz\u001b[0m\u001b[0;34m\u001b[0m\u001b[0;34m\u001b[0m\u001b[0m\n\u001b[0m\u001b[1;32m    133\u001b[0m     \u001b[0;32mexcept\u001b[0m \u001b[0mImportError\u001b[0m \u001b[0;32mas\u001b[0m \u001b[0me\u001b[0m\u001b[0;34m:\u001b[0m\u001b[0;34m\u001b[0m\u001b[0;34m\u001b[0m\u001b[0m\n",
      "\u001b[0;31mModuleNotFoundError\u001b[0m: No module named 'pygraphviz'",
      "\nThe above exception was the direct cause of the following exception:\n",
      "\u001b[0;31mImportError\u001b[0m                               Traceback (most recent call last)",
      "\u001b[0;32m/tmp/ipykernel_6779/3211825511.py\u001b[0m in \u001b[0;36m<module>\u001b[0;34m\u001b[0m\n\u001b[1;32m      5\u001b[0m \u001b[0;31m# write dot file to use with graphviz\u001b[0m\u001b[0;34m\u001b[0m\u001b[0;34m\u001b[0m\u001b[0;34m\u001b[0m\u001b[0m\n\u001b[1;32m      6\u001b[0m \u001b[0;31m# run \"dot -Tpng test.dot >test.png\"\u001b[0m\u001b[0;34m\u001b[0m\u001b[0;34m\u001b[0m\u001b[0;34m\u001b[0m\u001b[0m\n\u001b[0;32m----> 7\u001b[0;31m \u001b[0mnx\u001b[0m\u001b[0;34m.\u001b[0m\u001b[0mnx_agraph\u001b[0m\u001b[0;34m.\u001b[0m\u001b[0mwrite_dot\u001b[0m\u001b[0;34m(\u001b[0m\u001b[0mG\u001b[0m\u001b[0;34m,\u001b[0m\u001b[0;34m'test.dot'\u001b[0m\u001b[0;34m)\u001b[0m\u001b[0;34m\u001b[0m\u001b[0;34m\u001b[0m\u001b[0m\n\u001b[0m\u001b[1;32m      8\u001b[0m \u001b[0;34m\u001b[0m\u001b[0m\n\u001b[1;32m      9\u001b[0m \u001b[0;31m# same layout using matplotlib with no labels\u001b[0m\u001b[0;34m\u001b[0m\u001b[0;34m\u001b[0m\u001b[0;34m\u001b[0m\u001b[0m\n",
      "\u001b[0;32m/usr/local/miniconda3/lib/python3.9/site-packages/networkx/drawing/nx_agraph.py\u001b[0m in \u001b[0;36mwrite_dot\u001b[0;34m(G, path)\u001b[0m\n\u001b[1;32m    183\u001b[0m        \u001b[0mFilename\u001b[0m \u001b[0;32mor\u001b[0m \u001b[0mfile\u001b[0m \u001b[0mhandle\u001b[0m \u001b[0mto\u001b[0m \u001b[0mwrite\u001b[0m\u001b[0;34m\u001b[0m\u001b[0;34m\u001b[0m\u001b[0m\n\u001b[1;32m    184\u001b[0m     \"\"\"\n\u001b[0;32m--> 185\u001b[0;31m     \u001b[0mA\u001b[0m \u001b[0;34m=\u001b[0m \u001b[0mto_agraph\u001b[0m\u001b[0;34m(\u001b[0m\u001b[0mG\u001b[0m\u001b[0;34m)\u001b[0m\u001b[0;34m\u001b[0m\u001b[0;34m\u001b[0m\u001b[0m\n\u001b[0m\u001b[1;32m    186\u001b[0m     \u001b[0mA\u001b[0m\u001b[0;34m.\u001b[0m\u001b[0mwrite\u001b[0m\u001b[0;34m(\u001b[0m\u001b[0mpath\u001b[0m\u001b[0;34m)\u001b[0m\u001b[0;34m\u001b[0m\u001b[0;34m\u001b[0m\u001b[0m\n\u001b[1;32m    187\u001b[0m     \u001b[0mA\u001b[0m\u001b[0;34m.\u001b[0m\u001b[0mclear\u001b[0m\u001b[0;34m(\u001b[0m\u001b[0;34m)\u001b[0m\u001b[0;34m\u001b[0m\u001b[0;34m\u001b[0m\u001b[0m\n",
      "\u001b[0;32m/usr/local/miniconda3/lib/python3.9/site-packages/networkx/drawing/nx_agraph.py\u001b[0m in \u001b[0;36mto_agraph\u001b[0;34m(N)\u001b[0m\n\u001b[1;32m    132\u001b[0m         \u001b[0;32mimport\u001b[0m \u001b[0mpygraphviz\u001b[0m\u001b[0;34m\u001b[0m\u001b[0;34m\u001b[0m\u001b[0m\n\u001b[1;32m    133\u001b[0m     \u001b[0;32mexcept\u001b[0m \u001b[0mImportError\u001b[0m \u001b[0;32mas\u001b[0m \u001b[0me\u001b[0m\u001b[0;34m:\u001b[0m\u001b[0;34m\u001b[0m\u001b[0;34m\u001b[0m\u001b[0m\n\u001b[0;32m--> 134\u001b[0;31m         \u001b[0;32mraise\u001b[0m \u001b[0mImportError\u001b[0m\u001b[0;34m(\u001b[0m\u001b[0;34m\"requires pygraphviz \"\u001b[0m \u001b[0;34m\"http://pygraphviz.github.io/\"\u001b[0m\u001b[0;34m)\u001b[0m \u001b[0;32mfrom\u001b[0m \u001b[0me\u001b[0m\u001b[0;34m\u001b[0m\u001b[0;34m\u001b[0m\u001b[0m\n\u001b[0m\u001b[1;32m    135\u001b[0m     \u001b[0mdirected\u001b[0m \u001b[0;34m=\u001b[0m \u001b[0mN\u001b[0m\u001b[0;34m.\u001b[0m\u001b[0mis_directed\u001b[0m\u001b[0;34m(\u001b[0m\u001b[0;34m)\u001b[0m\u001b[0;34m\u001b[0m\u001b[0;34m\u001b[0m\u001b[0m\n\u001b[1;32m    136\u001b[0m     \u001b[0mstrict\u001b[0m \u001b[0;34m=\u001b[0m \u001b[0mnx\u001b[0m\u001b[0;34m.\u001b[0m\u001b[0mnumber_of_selfloops\u001b[0m\u001b[0;34m(\u001b[0m\u001b[0mN\u001b[0m\u001b[0;34m)\u001b[0m \u001b[0;34m==\u001b[0m \u001b[0;36m0\u001b[0m \u001b[0;32mand\u001b[0m \u001b[0;32mnot\u001b[0m \u001b[0mN\u001b[0m\u001b[0;34m.\u001b[0m\u001b[0mis_multigraph\u001b[0m\u001b[0;34m(\u001b[0m\u001b[0;34m)\u001b[0m\u001b[0;34m\u001b[0m\u001b[0;34m\u001b[0m\u001b[0m\n",
      "\u001b[0;31mImportError\u001b[0m: requires pygraphviz http://pygraphviz.github.io/"
     ]
    }
   ],
   "source": [
    "import networkx as nx\n",
    "from networkx.drawing.nx_agraph import graphviz_layout\n",
    "import matplotlib.pyplot as plt\n",
    "\n",
    "# write dot file to use with graphviz\n",
    "# run \"dot -Tpng test.dot >test.png\"\n",
    "nx.nx_agraph.write_dot(G,'test.dot')\n",
    "\n",
    "# same layout using matplotlib with no labels\n",
    "plt.title('draw_networkx')\n",
    "pos=graphviz_layout(G, prog='dot')\n",
    "nx.draw(G, pos, with_labels=False, arrows=False)\n",
    "# plt.savefig('nx_test.png')"
   ]
  },
  {
   "cell_type": "code",
   "execution_count": null,
   "id": "bafbafdb-4b73-46f3-9ee0-688a37db639c",
   "metadata": {},
   "outputs": [],
   "source": []
  }
 ],
 "metadata": {
  "kernelspec": {
   "display_name": "Python 3 (ipykernel)",
   "language": "python",
   "name": "python3"
  },
  "language_info": {
   "codemirror_mode": {
    "name": "ipython",
    "version": 3
   },
   "file_extension": ".py",
   "mimetype": "text/x-python",
   "name": "python",
   "nbconvert_exporter": "python",
   "pygments_lexer": "ipython3",
   "version": "3.9.5"
  }
 },
 "nbformat": 4,
 "nbformat_minor": 5
}
