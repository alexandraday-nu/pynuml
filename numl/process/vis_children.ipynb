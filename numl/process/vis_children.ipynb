{
 "cells": [
  {
   "cell_type": "code",
   "execution_count": 1,
   "id": "d9fd3d76-7d89-435b-987e-690b2803fe66",
   "metadata": {},
   "outputs": [],
   "source": [
    "%load_ext autoreload\n",
    "%autoreload 2"
   ]
  },
  {
   "cell_type": "code",
   "execution_count": 2,
   "id": "3b94679c-66de-4e85-b85c-7d3b257c9474",
   "metadata": {},
   "outputs": [],
   "source": [
    "from visualization import *\n",
    "from core.file import NuMLFile\n",
    "from IPython.display import clear_output"
   ]
  },
  {
   "cell_type": "code",
   "execution_count": 3,
   "id": "91794a63-929e-4bf5-b6f3-794c424091f9",
   "metadata": {},
   "outputs": [],
   "source": [
    "fname = \"/data/uboone/uboone_numu_slice_seq.h5\""
   ]
  },
  {
   "cell_type": "code",
   "execution_count": 4,
   "id": "e0a43460-a695-49b3-bb25-8630627046c1",
   "metadata": {
    "tags": []
   },
   "outputs": [],
   "source": [
    "\"\"\"Process all events in a file into graphs\"\"\"\n",
    "f = NuMLFile(fname)\n",
    "f.add_group(\"hit_table\")\n",
    "f.add_group(\"particle_table\", [\"g4_id\", \"parent_id\", \"type\", \"momentum\", \"start_process\", \"end_process\"])\n",
    "f.add_group(\"edep_table\")\n",
    "f.add_group(\"spacepoint_table\")\n",
    "f.read_data([0], [1000], use_seq=True, profile=False)\n",
    "evt_list = f.build_evt(0, 1000)"
   ]
  },
  {
   "cell_type": "code",
   "execution_count": null,
   "id": "cdac1a88-e118-4de3-996c-ea1086ad61c1",
   "metadata": {},
   "outputs": [],
   "source": [
    "# Process single key\n",
    "# planes = single_plane_graph_vis(evt_list[0])\n",
    "# plot_event(handle_planes(planes), print_out=True, write=False)"
   ]
  },
  {
   "cell_type": "code",
   "execution_count": 6,
   "id": "c7b9504d-8228-4ca6-a4dd-1a23dd406770",
   "metadata": {},
   "outputs": [
    {
     "name": "stdout",
     "output_type": "stream",
     "text": [
      "     g4_id  parent_id  type  momentum        start_process  \\\n",
      "0        1          0    13  0.735918           b'primary'   \n",
      "1        2          0  2212  0.905348           b'primary'   \n",
      "2        3          2    11  0.001023             b'hIoni'   \n",
      "3        4          2    11  0.000673             b'hIoni'   \n",
      "4        5          2    11  0.000816             b'hIoni'   \n",
      "..     ...        ...   ...       ...                  ...   \n",
      "99     169        147    11  0.000261              b'phot'   \n",
      "100    180        145    11  0.000131              b'phot'   \n",
      "101    181        144    11  0.000185              b'phot'   \n",
      "102    182        141    11  0.000142              b'phot'   \n",
      "103    233         15  2112  0.020334  b'neutronInelastic'   \n",
      "\n",
      "                  end_process  \n",
      "0        b'FastScintillation'  \n",
      "1          b'protonInelastic'  \n",
      "2        b'FastScintillation'  \n",
      "3        b'FastScintillation'  \n",
      "4        b'FastScintillation'  \n",
      "..                        ...  \n",
      "99       b'FastScintillation'  \n",
      "100      b'FastScintillation'  \n",
      "101      b'FastScintillation'  \n",
      "102      b'FastScintillation'  \n",
      "103  b'CoupledTransportation'  \n",
      "\n",
      "[104 rows x 6 columns]\n"
     ]
    }
   ],
   "source": [
    "print(evt_list[0]['particle_table'])"
   ]
  },
  {
   "cell_type": "code",
   "execution_count": 7,
   "id": "20d1590f-0ee8-4d9c-b7b7-9ad99d1b561c",
   "metadata": {},
   "outputs": [
    {
     "name": "stdout",
     "output_type": "stream",
     "text": [
      "func:'panoptic_label' took: 0.4058 sec\n",
      "[       type  momentum  hit_count  neighbors\n",
      "0       NaN       NaN          0  [1, 5, 4]\n",
      "1      13.0  1.102505         48  [108, 95]\n",
      "5    2212.0  0.607284          2         []\n",
      "4     211.0  0.232898          1         []\n",
      "108    11.0  0.002462          1         []\n",
      "95     11.0  0.002393          1         [],              type  momentum  hit_count  \\\n",
      "0             NaN       NaN          0   \n",
      "1    1.300000e+01  1.102505        436   \n",
      "5    2.212000e+03  0.607284         38   \n",
      "3    2.212000e+03  0.307925          3   \n",
      "4    2.110000e+02  0.232898         79   \n",
      "121  1.100000e+01  0.003570          1   \n",
      "113  1.100000e+01  0.001766          1   \n",
      "108  1.100000e+01  0.002462          2   \n",
      "104  1.100000e+01  0.002568          1   \n",
      "95   1.100000e+01  0.002393          2   \n",
      "94   1.100000e+01  0.001936          1   \n",
      "89   1.100000e+01  0.006528          3   \n",
      "87   1.100000e+01  0.005578          3   \n",
      "82   1.100000e+01  0.002529          1   \n",
      "80   1.100000e+01  0.004114          3   \n",
      "73   1.100000e+01  0.003903          1   \n",
      "71   1.100000e+01  0.003478          2   \n",
      "63   1.100000e+01  0.001479          1   \n",
      "115  1.100000e+01  0.002731          1   \n",
      "22   2.212000e+03  0.227617          1   \n",
      "31   1.000010e+09  0.343984          2   \n",
      "15   1.100000e+01  0.001655          1   \n",
      "\n",
      "                                             neighbors  \n",
      "0                                         [1, 5, 3, 4]  \n",
      "1    [121, 113, 108, 104, 95, 94, 89, 87, 82, 80, 7...  \n",
      "5                                                   []  \n",
      "3                                                   []  \n",
      "4                                         [22, 31, 15]  \n",
      "121                                                 []  \n",
      "113                                                 []  \n",
      "108                                                 []  \n",
      "104                                                 []  \n",
      "95                                                  []  \n",
      "94                                                  []  \n",
      "89                                                  []  \n",
      "87                                                  []  \n",
      "82                                                  []  \n",
      "80                                                  []  \n",
      "73                                                  []  \n",
      "71                                                  []  \n",
      "63                                                  []  \n",
      "115                                                 []  \n",
      "22                                                  []  \n",
      "31                                                  []  \n",
      "15                                                  []  ,              type  momentum  hit_count  \\\n",
      "0             NaN       NaN          0   \n",
      "1    1.300000e+01  1.102505        483   \n",
      "5    2.212000e+03  0.607284         67   \n",
      "3    2.212000e+03  0.307925          3   \n",
      "4    2.110000e+02  0.232898         26   \n",
      "121  1.100000e+01  0.003570          1   \n",
      "113  1.100000e+01  0.001766          1   \n",
      "108  1.100000e+01  0.002462          1   \n",
      "106  1.100000e+01  0.002209          1   \n",
      "104  1.100000e+01  0.002568          1   \n",
      "95   1.100000e+01  0.002393          1   \n",
      "94   1.100000e+01  0.001936          1   \n",
      "89   1.100000e+01  0.006528          1   \n",
      "87   1.100000e+01  0.005578          3   \n",
      "82   1.100000e+01  0.002529          1   \n",
      "80   1.100000e+01  0.004114          3   \n",
      "77   1.100000e+01  0.001711          1   \n",
      "76   1.100000e+01  0.001424          1   \n",
      "73   1.100000e+01  0.003903          3   \n",
      "71   1.100000e+01  0.003478          4   \n",
      "66   1.100000e+01  0.001102          1   \n",
      "63   1.100000e+01  0.001479          1   \n",
      "52   1.100000e+01  0.001475          1   \n",
      "22   2.212000e+03  0.227617          3   \n",
      "31   1.000010e+09  0.343984          2   \n",
      "\n",
      "                                             neighbors  \n",
      "0                                         [1, 5, 3, 4]  \n",
      "1    [121, 113, 108, 106, 104, 95, 94, 89, 87, 82, ...  \n",
      "5                                                   []  \n",
      "3                                                   []  \n",
      "4                                             [22, 31]  \n",
      "121                                                 []  \n",
      "113                                                 []  \n",
      "108                                                 []  \n",
      "106                                                 []  \n",
      "104                                                 []  \n",
      "95                                                  []  \n",
      "94                                                  []  \n",
      "89                                                  []  \n",
      "87                                                  []  \n",
      "82                                                  []  \n",
      "80                                                  []  \n",
      "77                                                  []  \n",
      "76                                                  []  \n",
      "73                                                  []  \n",
      "71                                                  []  \n",
      "66                                                  []  \n",
      "63                                                  []  \n",
      "52                                                  []  \n",
      "22                                                  []  \n",
      "31                                                  []  ]\n"
     ]
    }
   ],
   "source": [
    "current_event = evt_list[3]\n",
    "# print(current_event)\n",
    "planes = single_plane_graph_vis(current_event)\n",
    "particle = current_event['particle_table']\n",
    "hier = extract_hierarchy(planes, particle)\n",
    "print(hier) # 3 different tables, why?"
   ]
  },
  {
   "cell_type": "code",
   "execution_count": null,
   "id": "ecb2f69b-f42a-4efa-9ec8-213798d1738b",
   "metadata": {},
   "outputs": [],
   "source": []
  },
  {
   "cell_type": "code",
   "execution_count": 22,
   "id": "000ba9ba-5da9-4fb8-a8fa-3e29bdb2570e",
   "metadata": {},
   "outputs": [],
   "source": [
    "# Starting code for finding the particle hierarchy, assuming the above code works\n",
    "\n",
    "# for each particle (given by g4_id), we have a list of their neighbors/children\n",
    "# given in the form of hierarchy.iloc[g4_id]['neighbors']\n",
    "\n",
    "# iterate through each particle and its children and create a big list of all the directed edges?\n",
    "# seems inefficient...?\n",
    "\n",
    "import networkx as nx\n",
    "import matplotlib.pyplot as plt\n",
    "def vis_hierarchy(hier_df):\n",
    "    ''' Visualize the tree hierarchy of a particle event '''\n",
    "    # make a list of all the edges\n",
    "    edges = []\n",
    "    for particle in hier_df.index.values:\n",
    "        if hier_df.iloc[particle]['neighbors'] == []: \n",
    "            break\n",
    "        else:\n",
    "            for neighbor in hier_df.iloc[particle]['neighbors']:\n",
    "                edges.append((particle, neighbor))\n",
    "    \n",
    "    # turn this list into a networkx graph and visualize\n",
    "    G = nx.DiGraph()\n",
    "    G.add_edges_from(edges)\n",
    "    \n",
    "    plt.figure()\n",
    "    nx.draw_networkx(G)\n",
    "    plt.show()"
   ]
  },
  {
   "cell_type": "code",
   "execution_count": 31,
   "id": "14e5a2e8-56c6-4666-8c5a-8a273a4adffd",
   "metadata": {},
   "outputs": [
    {
     "name": "stderr",
     "output_type": "stream",
     "text": [
      "/tmp/ipykernel_17683/3118650667.py:16: DeprecationWarning: elementwise comparison failed; this will raise an error in the future.\n",
      "  if hier_df.iloc[particle]['neighbors'] == []:\n"
     ]
    },
    {
     "data": {
      "image/png": "[encoded data removed]",
      "text/plain": [
       "<Figure size 432x288 with 1 Axes>"
      ]
     },
     "metadata": {},
     "output_type": "display_data"
    }
   ],
   "source": [
    "# Test function\n",
    "current_event = evt_list[9]\n",
    "test=hier[1]\n",
    "vis_hierarchy(test)"
   ]
  },
  {
   "cell_type": "code",
   "execution_count": null,
   "id": "e43732e3-4a43-45c1-af30-10d7e9c2cecc",
   "metadata": {},
   "outputs": [],
   "source": []
  },
  {
   "cell_type": "code",
   "execution_count": 32,
   "id": "09bebe34-cd2e-4f46-a86f-522745be6872",
   "metadata": {},
   "outputs": [],
   "source": [
    "# Below is old code for figuring out function"
   ]
  },
  {
   "cell_type": "code",
   "execution_count": 51,
   "id": "6fdec0f0-6305-4173-bda1-c7ab8558db7f",
   "metadata": {},
   "outputs": [
    {
     "data": {
      "text/plain": [
       "[0, 1, 5, 4, 108, 95]"
      ]
     },
     "execution_count": 51,
     "metadata": {},
     "output_type": "execute_result"
    }
   ],
   "source": [
    "table1 = hier[0]\n",
    "table1.index.values.tolist()\n",
    "# vis_hierarchy(table_1)"
   ]
  },
  {
   "cell_type": "code",
   "execution_count": 73,
   "id": "e6f70533-ef69-4256-b434-c275b8ef4db0",
   "metadata": {},
   "outputs": [
    {
     "name": "stderr",
     "output_type": "stream",
     "text": [
      "/tmp/ipykernel_6779/3386597217.py:7: DeprecationWarning: elementwise comparison failed; this will raise an error in the future.\n",
      "  if table1.iloc[particle]['neighbors'] == []:\n"
     ]
    },
    {
     "name": "stdout",
     "output_type": "stream",
     "text": [
      "[(0, 1), (0, 5), (0, 4), (1, 108), (1, 95)]\n",
      "DiGraph with 6 nodes and 5 edges\n"
     ]
    },
    {
     "data": {
      "image/png": "[encoded data removed]",
      "text/plain": [
       "<Figure size 432x288 with 1 Axes>"
      ]
     },
     "metadata": {},
     "output_type": "display_data"
    }
   ],
   "source": [
    "particles = table1.index.values #.tolist()\n",
    "# table1.iloc[5]['neighbors']\n",
    "\n",
    "edges = []\n",
    "for particle in particles:\n",
    "#     print(table1.iloc[particle]['neighbors'])\n",
    "    if table1.iloc[particle]['neighbors'] == []: \n",
    "        break\n",
    "    else:\n",
    "#         print(table1.iloc[particle]['neighbors'])\n",
    "        for neighbor in table1.iloc[particle]['neighbors']:\n",
    "            edges.append((particle, neighbor))\n",
    "\n",
    "print(edges)\n",
    "\n",
    "G = nx.DiGraph() # or G = nx.DiGraph()\n",
    "G.add_edges_from(edges)\n",
    "print(G)\n",
    "\n",
    "plt.title(\"draw_networkx\")\n",
    "nx.draw_networkx(G)\n",
    "\n",
    "plt.show()"
   ]
  },
  {
   "cell_type": "code",
   "execution_count": 72,
   "id": "3c882421-66b6-40ec-9f37-5a371536e9c5",
   "metadata": {},
   "outputs": [
    {
     "ename": "ImportError",
     "evalue": "requires pygraphviz http://pygraphviz.github.io/",
     "output_type": "error",
     "traceback": [
      "\u001b[0;31m---------------------------------------------------------------------------\u001b[0m",
      "\u001b[0;31mModuleNotFoundError\u001b[0m                       Traceback (most recent call last)",
      "\u001b[0;32m/usr/local/miniconda3/lib/python3.9/site-packages/networkx/drawing/nx_agraph.py\u001b[0m in \u001b[0;36mto_agraph\u001b[0;34m(N)\u001b[0m\n\u001b[1;32m    131\u001b[0m     \u001b[0;32mtry\u001b[0m\u001b[0;34m:\u001b[0m\u001b[0;34m\u001b[0m\u001b[0;34m\u001b[0m\u001b[0m\n\u001b[0;32m--> 132\u001b[0;31m         \u001b[0;32mimport\u001b[0m \u001b[0mpygraphviz\u001b[0m\u001b[0;34m\u001b[0m\u001b[0;34m\u001b[0m\u001b[0m\n\u001b[0m\u001b[1;32m    133\u001b[0m     \u001b[0;32mexcept\u001b[0m \u001b[0mImportError\u001b[0m \u001b[0;32mas\u001b[0m \u001b[0me\u001b[0m\u001b[0;34m:\u001b[0m\u001b[0;34m\u001b[0m\u001b[0;34m\u001b[0m\u001b[0m\n",
      "\u001b[0;31mModuleNotFoundError\u001b[0m: No module named 'pygraphviz'",
      "\nThe above exception was the direct cause of the following exception:\n",
      "\u001b[0;31mImportError\u001b[0m                               Traceback (most recent call last)",
      "\u001b[0;32m/tmp/ipykernel_6779/3211825511.py\u001b[0m in \u001b[0;36m<module>\u001b[0;34m\u001b[0m\n\u001b[1;32m      5\u001b[0m \u001b[0;31m# write dot file to use with graphviz\u001b[0m\u001b[0;34m\u001b[0m\u001b[0;34m\u001b[0m\u001b[0;34m\u001b[0m\u001b[0m\n\u001b[1;32m      6\u001b[0m \u001b[0;31m# run \"dot -Tpng test.dot >test.png\"\u001b[0m\u001b[0;34m\u001b[0m\u001b[0;34m\u001b[0m\u001b[0;34m\u001b[0m\u001b[0m\n\u001b[0;32m----> 7\u001b[0;31m \u001b[0mnx\u001b[0m\u001b[0;34m.\u001b[0m\u001b[0mnx_agraph\u001b[0m\u001b[0;34m.\u001b[0m\u001b[0mwrite_dot\u001b[0m\u001b[0;34m(\u001b[0m\u001b[0mG\u001b[0m\u001b[0;34m,\u001b[0m\u001b[0;34m'test.dot'\u001b[0m\u001b[0;34m)\u001b[0m\u001b[0;34m\u001b[0m\u001b[0;34m\u001b[0m\u001b[0m\n\u001b[0m\u001b[1;32m      8\u001b[0m \u001b[0;34m\u001b[0m\u001b[0m\n\u001b[1;32m      9\u001b[0m \u001b[0;31m# same layout using matplotlib with no labels\u001b[0m\u001b[0;34m\u001b[0m\u001b[0;34m\u001b[0m\u001b[0;34m\u001b[0m\u001b[0m\n",
      "\u001b[0;32m/usr/local/miniconda3/lib/python3.9/site-packages/networkx/drawing/nx_agraph.py\u001b[0m in \u001b[0;36mwrite_dot\u001b[0;34m(G, path)\u001b[0m\n\u001b[1;32m    183\u001b[0m        \u001b[0mFilename\u001b[0m \u001b[0;32mor\u001b[0m \u001b[0mfile\u001b[0m \u001b[0mhandle\u001b[0m \u001b[0mto\u001b[0m \u001b[0mwrite\u001b[0m\u001b[0;34m\u001b[0m\u001b[0;34m\u001b[0m\u001b[0m\n\u001b[1;32m    184\u001b[0m     \"\"\"\n\u001b[0;32m--> 185\u001b[0;31m     \u001b[0mA\u001b[0m \u001b[0;34m=\u001b[0m \u001b[0mto_agraph\u001b[0m\u001b[0;34m(\u001b[0m\u001b[0mG\u001b[0m\u001b[0;34m)\u001b[0m\u001b[0;34m\u001b[0m\u001b[0;34m\u001b[0m\u001b[0m\n\u001b[0m\u001b[1;32m    186\u001b[0m     \u001b[0mA\u001b[0m\u001b[0;34m.\u001b[0m\u001b[0mwrite\u001b[0m\u001b[0;34m(\u001b[0m\u001b[0mpath\u001b[0m\u001b[0;34m)\u001b[0m\u001b[0;34m\u001b[0m\u001b[0;34m\u001b[0m\u001b[0m\n\u001b[1;32m    187\u001b[0m     \u001b[0mA\u001b[0m\u001b[0;34m.\u001b[0m\u001b[0mclear\u001b[0m\u001b[0;34m(\u001b[0m\u001b[0;34m)\u001b[0m\u001b[0;34m\u001b[0m\u001b[0;34m\u001b[0m\u001b[0m\n",
      "\u001b[0;32m/usr/local/miniconda3/lib/python3.9/site-packages/networkx/drawing/nx_agraph.py\u001b[0m in \u001b[0;36mto_agraph\u001b[0;34m(N)\u001b[0m\n\u001b[1;32m    132\u001b[0m         \u001b[0;32mimport\u001b[0m \u001b[0mpygraphviz\u001b[0m\u001b[0;34m\u001b[0m\u001b[0;34m\u001b[0m\u001b[0m\n\u001b[1;32m    133\u001b[0m     \u001b[0;32mexcept\u001b[0m \u001b[0mImportError\u001b[0m \u001b[0;32mas\u001b[0m \u001b[0me\u001b[0m\u001b[0;34m:\u001b[0m\u001b[0;34m\u001b[0m\u001b[0;34m\u001b[0m\u001b[0m\n\u001b[0;32m--> 134\u001b[0;31m         \u001b[0;32mraise\u001b[0m \u001b[0mImportError\u001b[0m\u001b[0;34m(\u001b[0m\u001b[0;34m\"requires pygraphviz \"\u001b[0m \u001b[0;34m\"http://pygraphviz.github.io/\"\u001b[0m\u001b[0;34m)\u001b[0m \u001b[0;32mfrom\u001b[0m \u001b[0me\u001b[0m\u001b[0;34m\u001b[0m\u001b[0;34m\u001b[0m\u001b[0m\n\u001b[0m\u001b[1;32m    135\u001b[0m     \u001b[0mdirected\u001b[0m \u001b[0;34m=\u001b[0m \u001b[0mN\u001b[0m\u001b[0;34m.\u001b[0m\u001b[0mis_directed\u001b[0m\u001b[0;34m(\u001b[0m\u001b[0;34m)\u001b[0m\u001b[0;34m\u001b[0m\u001b[0;34m\u001b[0m\u001b[0m\n\u001b[1;32m    136\u001b[0m     \u001b[0mstrict\u001b[0m \u001b[0;34m=\u001b[0m \u001b[0mnx\u001b[0m\u001b[0;34m.\u001b[0m\u001b[0mnumber_of_selfloops\u001b[0m\u001b[0;34m(\u001b[0m\u001b[0mN\u001b[0m\u001b[0;34m)\u001b[0m \u001b[0;34m==\u001b[0m \u001b[0;36m0\u001b[0m \u001b[0;32mand\u001b[0m \u001b[0;32mnot\u001b[0m \u001b[0mN\u001b[0m\u001b[0;34m.\u001b[0m\u001b[0mis_multigraph\u001b[0m\u001b[0;34m(\u001b[0m\u001b[0;34m)\u001b[0m\u001b[0;34m\u001b[0m\u001b[0;34m\u001b[0m\u001b[0m\n",
      "\u001b[0;31mImportError\u001b[0m: requires pygraphviz http://pygraphviz.github.io/"
     ]
    }
   ],
   "source": [
    "import networkx as nx\n",
    "from networkx.drawing.nx_agraph import graphviz_layout\n",
    "import matplotlib.pyplot as plt\n",
    "\n",
    "# write dot file to use with graphviz\n",
    "# run \"dot -Tpng test.dot >test.png\"\n",
    "nx.nx_agraph.write_dot(G,'test.dot')\n",
    "\n",
    "# same layout using matplotlib with no labels\n",
    "plt.title('draw_networkx')\n",
    "pos=graphviz_layout(G, prog='dot')\n",
    "nx.draw(G, pos, with_labels=False, arrows=False)\n",
    "# plt.savefig('nx_test.png')"
   ]
  },
  {
   "cell_type": "code",
   "execution_count": null,
   "id": "bafbafdb-4b73-46f3-9ee0-688a37db639c",
   "metadata": {},
   "outputs": [],
   "source": []
  }
 ],
 "metadata": {
  "kernelspec": {
   "display_name": "Python 3 (ipykernel)",
   "language": "python",
   "name": "python3"
  },
  "language_info": {
   "codemirror_mode": {
    "name": "ipython",
    "version": 3
   },
   "file_extension": ".py",
   "mimetype": "text/x-python",
   "name": "python",
   "nbconvert_exporter": "python",
   "pygments_lexer": "ipython3",
   "version": "3.9.5"
  }
 },
 "nbformat": 4,
 "nbformat_minor": 5
}
